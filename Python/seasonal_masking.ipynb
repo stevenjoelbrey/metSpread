{
 "cells": [
  {
   "cell_type": "markdown",
   "metadata": {},
   "source": [
    "## Average seasonal means "
   ]
  },
  {
   "cell_type": "code",
   "execution_count": 11,
   "metadata": {},
   "outputs": [],
   "source": [
    "import pandas as pd\n",
    "import numpy as np"
   ]
  },
  {
   "cell_type": "code",
   "execution_count": 2,
   "metadata": {},
   "outputs": [],
   "source": [
    "# these are the \"seasons\" I average gridded data for the work so far\n",
    "winter = [11,12,1,2] # months in winter\n",
    "sprint = [3,4,5]     # months in spring \n",
    "summer = [6,7,8]     # months in summer (wildfire season)"
   ]
  },
  {
   "cell_type": "code",
   "execution_count": 9,
   "metadata": {},
   "outputs": [
    {
     "data": {
      "text/plain": [
       "DatetimeIndex(['1960-01-31', '1960-02-29', '1960-03-31', '1960-04-30',\n",
       "               '1960-05-31', '1960-06-30', '1960-07-31', '1960-08-31',\n",
       "               '1960-09-30', '1960-10-31',\n",
       "               ...\n",
       "               '2099-03-31', '2099-04-30', '2099-05-31', '2099-06-30',\n",
       "               '2099-07-31', '2099-08-31', '2099-09-30', '2099-10-31',\n",
       "               '2099-11-30', '2099-12-31'],\n",
       "              dtype='datetime64[ns]', length=1680, freq='M')"
      ]
     },
     "execution_count": 9,
     "metadata": {},
     "output_type": "execute_result"
    }
   ],
   "source": [
    "# you said the model months are 140 years of monthly data \n",
    "# I will assume they start on some date like 1960-01-01? \n",
    "total_months = 140*12.\n",
    "grid_dates = pd.date_range(start=\"1960-01-01\", periods=(total_months), freq=\"M\")\n",
    "grid_dates"
   ]
  },
  {
   "cell_type": "code",
   "execution_count": 10,
   "metadata": {},
   "outputs": [
    {
     "data": {
      "text/plain": [
       "Int64Index([ 1,  2,  3,  4,  5,  6,  7,  8,  9, 10,\n",
       "            ...\n",
       "             3,  4,  5,  6,  7,  8,  9, 10, 11, 12],\n",
       "           dtype='int64', length=1680)"
      ]
     },
     "execution_count": 10,
     "metadata": {},
     "output_type": "execute_result"
    }
   ],
   "source": [
    "# has handy attributes, like month\n",
    "grid_dates.month"
   ]
  },
  {
   "cell_type": "code",
   "execution_count": 16,
   "metadata": {},
   "outputs": [
    {
     "name": "stdout",
     "output_type": "stream",
     "text": [
      "length of winter_mask 1680\n",
      "[ 1  2 11 12]\n"
     ]
    }
   ],
   "source": [
    "# So it would be possible to get the mask for months of intereest\n",
    "grid_months = grid_dates.month\n",
    "winter_mask = grid_months.isin(winter)\n",
    "print(\"length of winter_mask %s\" %len(winter_mask))\n",
    "print(np.unique(grid_months[winter_mask]))"
   ]
  },
  {
   "cell_type": "code",
   "execution_count": 21,
   "metadata": {},
   "outputs": [
    {
     "name": "stdout",
     "output_type": "stream",
     "text": [
      "[2080 2081 2082 2083 2084 2085 2086 2087 2088 2089 2090 2091 2092 2093\n",
      " 2094 2095 2096 2097 2098 2099]\n"
     ]
    }
   ],
   "source": [
    "# This could be combined with an array for the last 20 years\n",
    "last_20_years_mask = grid_dates.year > 2079\n",
    "print(np.unique(grid_dates.year[last_20_years_mask]))"
   ]
  },
  {
   "cell_type": "code",
   "execution_count": 22,
   "metadata": {},
   "outputs": [
    {
     "data": {
      "text/plain": [
       "DatetimeIndex(['2080-01-31', '2080-02-29', '2080-11-30', '2080-12-31',\n",
       "               '2081-01-31', '2081-02-28', '2081-11-30', '2081-12-31',\n",
       "               '2082-01-31', '2082-02-28', '2082-11-30', '2082-12-31',\n",
       "               '2083-01-31', '2083-02-28', '2083-11-30', '2083-12-31',\n",
       "               '2084-01-31', '2084-02-29', '2084-11-30', '2084-12-31',\n",
       "               '2085-01-31', '2085-02-28', '2085-11-30', '2085-12-31',\n",
       "               '2086-01-31', '2086-02-28', '2086-11-30', '2086-12-31',\n",
       "               '2087-01-31', '2087-02-28', '2087-11-30', '2087-12-31',\n",
       "               '2088-01-31', '2088-02-29', '2088-11-30', '2088-12-31',\n",
       "               '2089-01-31', '2089-02-28', '2089-11-30', '2089-12-31',\n",
       "               '2090-01-31', '2090-02-28', '2090-11-30', '2090-12-31',\n",
       "               '2091-01-31', '2091-02-28', '2091-11-30', '2091-12-31',\n",
       "               '2092-01-31', '2092-02-29', '2092-11-30', '2092-12-31',\n",
       "               '2093-01-31', '2093-02-28', '2093-11-30', '2093-12-31',\n",
       "               '2094-01-31', '2094-02-28', '2094-11-30', '2094-12-31',\n",
       "               '2095-01-31', '2095-02-28', '2095-11-30', '2095-12-31',\n",
       "               '2096-01-31', '2096-02-29', '2096-11-30', '2096-12-31',\n",
       "               '2097-01-31', '2097-02-28', '2097-11-30', '2097-12-31',\n",
       "               '2098-01-31', '2098-02-28', '2098-11-30', '2098-12-31',\n",
       "               '2099-01-31', '2099-02-28', '2099-11-30', '2099-12-31'],\n",
       "              dtype='datetime64[ns]', freq=None)"
      ]
     },
     "execution_count": 22,
     "metadata": {},
     "output_type": "execute_result"
    }
   ],
   "source": [
    "grid_dates[last_20_years_mask & winter_mask]"
   ]
  }
 ],
 "metadata": {
  "kernelspec": {
   "display_name": "Python 3",
   "language": "python",
   "name": "python3"
  },
  "language_info": {
   "codemirror_mode": {
    "name": "ipython",
    "version": 3
   },
   "file_extension": ".py",
   "mimetype": "text/x-python",
   "name": "python",
   "nbconvert_exporter": "python",
   "pygments_lexer": "ipython3",
   "version": "3.6.8"
  }
 },
 "nbformat": 4,
 "nbformat_minor": 2
}

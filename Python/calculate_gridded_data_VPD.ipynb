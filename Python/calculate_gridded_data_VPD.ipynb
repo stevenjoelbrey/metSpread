{
 "cells": [
  {
   "cell_type": "markdown",
   "metadata": {},
   "source": [
    "# Calculate historical Vapor Pressure Deficit (VPD) grids.\n",
    "\n",
    "Do this for gridded ERA-Interim data using the estimated RH% field. VPD is a simple forula. \n",
    "\n",
    "\\begin{align}\n",
    "VPD & = e_{sat} - e_{actual}\n",
    "\\end{align}\n",
    "\n",
    "where:"
   ]
  },
  {
   "cell_type": "markdown",
   "metadata": {},
   "source": [
    "\\begin{align}\n",
    "e_{actual}=\\frac{e_{sat}*RH)}{100}\n",
    "\\end{align}"
   ]
  },
  {
   "cell_type": "markdown",
   "metadata": {},
   "source": [
    "where the saturation water vopor pressure ($e_{sat}$) is expressed with the Teten's formula:\n",
    "Teton's formula, eq. 7.5 \n",
    "https://www.ecmwf.int/sites/default/files/elibrary/2015/9211-part-iv-physical-processes.pdf\n",
    "\n",
    "\\begin{align}\n",
    "e_{sat}(T) & = a_{1}exp(a_{3}\\frac{T - T_{0}}{T-a_{4}})\\\\\n",
    "\\\\\n",
    "a_{1} & = 611.21Pa \\\\\n",
    "a_{3} & = 17.502 \\\\\n",
    "a_{4} & = 32.19 \\\\\n",
    "T_{0} & = 273.16\n",
    "\\end{align}"
   ]
  },
  {
   "cell_type": "code",
   "execution_count": 1,
   "metadata": {
    "collapsed": true
   },
   "outputs": [],
   "source": [
    "import numpy as np\n",
    "from netCDF4 import Dataset\n",
    "import os\n",
    "\n",
    "def calculate_es(T):\n",
    "    \"\"\"Calculate saturation vapor pressure using Tetons formula\"\"\"\n",
    "    a1 = 611.21 # Pa\n",
    "    a3 = 17.502  \n",
    "    a4 = 32.19\n",
    "    T0 = 273.16 # K\n",
    "    e_sat = a1 * np.exp( a3 * (T-T0)/(T-a4) )\n",
    "    \n",
    "    return e_sat"
   ]
  },
  {
   "cell_type": "code",
   "execution_count": 23,
   "metadata": {
    "collapsed": true
   },
   "outputs": [],
   "source": [
    "def get_nc(var, year, dataDir): \n",
    "    loadFile = os.path.join(dataDir, var + \"_\" + str(year) + \".nc\")\n",
    "    nc = Dataset(loadFile)\n",
    "    vals = nc.variables[var][:]\n",
    "    t = nc.variables[\"time\"][:]\n",
    "    lon = nc.variables[\"longitude\"][:]\n",
    "    lat = nc.variables[\"latitude\"][:]\n",
    "    nc.close()\n",
    "    return vals, t, lon, lat"
   ]
  },
  {
   "cell_type": "code",
   "execution_count": 22,
   "metadata": {
    "collapsed": true
   },
   "outputs": [],
   "source": [
    "def write_VPD_nc(VALS, t, x, y, year, dataDir):\n",
    "    \n",
    "    outputFile = os.path.join(dataDir, \"VPD_\" + str(year) + \".nc\")\n",
    "\n",
    "    ncFile = Dataset(outputFile, 'w', format='NETCDF4')\n",
    "    ncFile.description = 'VPD (saturation pressure relative to water, Tetons eq.)'\n",
    "    ncFile.location = 'Global'\n",
    "    ncFile.createDimension('time',  len(t) )\n",
    "    ncFile.createDimension('latitude', len(y) )\n",
    "    ncFile.createDimension('longitude', len(x) )\n",
    "\n",
    "    VAR_ = ncFile.createVariable(\"VPD\", 'f4',('time', 'latitude','longitude'))\n",
    "    VAR_.long_name = \"Vapor Pressure Deficit\"\n",
    "    VAR_.units = \"Pa\"\n",
    "\n",
    "    # Create time variable\n",
    "    time_ = ncFile.createVariable('time', 'i4', ('time',))\n",
    "    time_.units = \"hours since 1900-01-01 00:00:0.0\"\n",
    "    time_.calendar = \"gregorian\"\n",
    "    \n",
    "    # create lat variable\n",
    "    latitude_ = ncFile.createVariable('latitude', 'f4', ('latitude',))\n",
    "    latitude_.units = 'degrees_north'\n",
    "\n",
    "    # create longitude variable\n",
    "    longitude_ = ncFile.createVariable('longitude', 'f4', ('longitude',))\n",
    "    longitude_.units = 'degrees_east'\n",
    "\n",
    "    # Write the actual data to these dimensions\n",
    "    VAR_[:]       = VALS\n",
    "    time_[:]      = t\n",
    "    latitude_[:]  = y\n",
    "    longitude_[:] = x\n",
    "\n",
    "    ncFile.close()"
   ]
  },
  {
   "cell_type": "markdown",
   "metadata": {},
   "source": [
    "### Use above functions to create VPD file. "
   ]
  },
  {
   "cell_type": "code",
   "execution_count": 25,
   "metadata": {
    "collapsed": true
   },
   "outputs": [],
   "source": [
    "dataDir = os.path.join(\"..\",\"..\", \"metSpreadData\", \"ERA-Interim\")\n",
    "year = \"1990-2015\"\n",
    "    \n",
    "# Get temperature to calculate es\n",
    "t2m,t,x,y = get_nc(\"t2m\", year, dataDir)\n",
    "    \n",
    "# Get RH% to calculate e_actual\n",
    "RH,t,x,y = get_nc(\"RH\", year, dataDir)\n",
    "\n",
    "# get saturation and actual vapor pressure \n",
    "e_sat = calculate_es(t2m)\n",
    "e_actual = e_sat * (RH / 100.)\n",
    "\n",
    "# Calculate VPD using what is known as subtraction\n",
    "VPD = e_sat - e_actual\n",
    "\n",
    "write_VPD_nc(VPD, t, x, y, year, dataDir)"
   ]
  },
  {
   "cell_type": "markdown",
   "metadata": {},
   "source": [
    "Use cdo remapbil,COMMON_GRID.txt to create the needed file for comparing to CMIP5. Move that file to the metSpread directory. "
   ]
  },
  {
   "cell_type": "markdown",
   "metadata": {},
   "source": [
    "### Do the same for CMIP5 output. "
   ]
  },
  {
   "cell_type": "code",
   "execution_count": 23,
   "metadata": {},
   "outputs": [],
   "source": [
    "import model_dictionary as md"
   ]
  },
  {
   "cell_type": "code",
   "execution_count": 24,
   "metadata": {},
   "outputs": [],
   "source": [
    "def get_CMIP_nc(var, loadFile): \n",
    "    \n",
    "    nc = Dataset(loadFile)\n",
    "    vals = nc.variables[var][:]\n",
    "    t = nc.variables[\"time\"][:]\n",
    "    lon = nc.variables[\"lon\"][:]\n",
    "    lat = nc.variables[\"lat\"][:]\n",
    "    nc.close()\n",
    "    return vals, t, lon, lat"
   ]
  },
  {
   "cell_type": "code",
   "execution_count": 25,
   "metadata": {},
   "outputs": [],
   "source": [
    "def write_VPD_CMIP5_nc(VALS, model, rcp, t, x, y, dataDir):\n",
    "    \n",
    "    outputFile = os.path.join(dataDir, \"VPD_Amon_\"+model+\"_\"+rcp+\"_r1i1p1_200601-210012.nc\")\n",
    "\n",
    "    ncFile = Dataset(outputFile, 'w', format='NETCDF4')\n",
    "    ncFile.description = 'VPD (saturation pressure relative to water, Tetons eq.)'\n",
    "    ncFile.location = 'Global'\n",
    "    ncFile.createDimension('time',  len(t) )\n",
    "    ncFile.createDimension('lat', len(y) )\n",
    "    ncFile.createDimension('lon', len(x) )\n",
    "\n",
    "    VAR_ = ncFile.createVariable(\"VPD\", 'f4',('time', 'lat','lon'))\n",
    "    VAR_.long_name = \"Vapor Pressure Deficit\"\n",
    "    VAR_.units = \"Pa\"\n",
    "\n",
    "    # Create time variable\n",
    "    time_ = ncFile.createVariable('time', 'i4', ('time',))\n",
    "    time_.units = \"days since 2006-1-1\"\n",
    "    #time_.calendar = \"gregorian\"\n",
    "    \n",
    "    # create lat variable\n",
    "    latitude_ = ncFile.createVariable('lat', 'f4', ('lat',))\n",
    "    latitude_.units = 'degrees_north'\n",
    "    latitude_.axis = \"Y\"\n",
    "\n",
    "    # create longitude variable\n",
    "    longitude_ = ncFile.createVariable('lon', 'f4', ('lon',))\n",
    "    longitude_.units = 'degrees_east'\n",
    "    longitude_.axis = \"X\"\n",
    "\n",
    "    # Write the actual data to these dimensions\n",
    "    VAR_[:]       = VALS\n",
    "    time_[:]      = t\n",
    "    latitude_[:]  = y\n",
    "    longitude_[:] = x\n",
    "\n",
    "    ncFile.close()"
   ]
  },
  {
   "cell_type": "code",
   "execution_count": 27,
   "metadata": {},
   "outputs": [
    {
     "name": "stdout",
     "output_type": "stream",
     "text": [
      "../Data/CMIP5/r1i1p1_rcp45_rcp85_merged_t_COMMON_GRID\n",
      "Working on: rcp45\n",
      "ACCESS1-0\n",
      "ACCESS1-3\n",
      "IPSL-CM5B-LR\n",
      "CMCC-CMS\n",
      "MIROC-ESM\n",
      "MIROC5\n",
      "CanESM2\n",
      "MPI-ESM-MR\n",
      "CSIRO-Mk3-6-0\n",
      "inmcm4\n",
      "GISS-E2-R-CC\n",
      "CCSM4\n",
      "GFDL-ESM2G\n",
      "CMCC-CM\n",
      "GFDL-ESM2M\n",
      "NorESM1-M\n",
      "IPSL-CM5A-MR\n",
      "IPSL-CM5A-LR\n",
      "GFDL-CM3\n",
      "CNRM-CM5\n",
      "GISS-E2-H\n",
      "MIROC-ESM-CHEM\n",
      "NorESM1-ME\n",
      "HadGEM2-ES\n",
      "GISS-E2-R\n",
      "HadGEM2-CC\n",
      "GISS-E2-H-CC\n",
      "CMCC-CESM\n",
      "MRI-CGCM3\n",
      "MPI-ESM-LR\n",
      "MRI-ESM1\n",
      "Working on: rcp85\n",
      "ACCESS1-0\n",
      "ACCESS1-3\n",
      "IPSL-CM5B-LR\n",
      "CMCC-CMS\n",
      "MIROC-ESM\n",
      "MIROC5\n",
      "CanESM2\n",
      "MPI-ESM-MR\n",
      "CSIRO-Mk3-6-0\n",
      "inmcm4\n",
      "GISS-E2-R-CC\n",
      "CCSM4\n",
      "GFDL-ESM2G\n",
      "CMCC-CM\n",
      "GFDL-ESM2M\n",
      "NorESM1-M\n",
      "IPSL-CM5A-MR\n",
      "IPSL-CM5A-LR\n",
      "GFDL-CM3\n",
      "CNRM-CM5\n",
      "GISS-E2-H\n",
      "MIROC-ESM-CHEM\n",
      "NorESM1-ME\n",
      "HadGEM2-ES\n",
      "GISS-E2-R\n",
      "HadGEM2-CC\n",
      "GISS-E2-H-CC\n",
      "CMCC-CESM\n",
      "MRI-CGCM3\n",
      "MPI-ESM-LR\n",
      "MRI-ESM1\n"
     ]
    }
   ],
   "source": [
    "dataDir = os.path.join(\"..\", \"Data\", \"CMIP5\", \"r1i1p1_rcp45_rcp85_merged_t_COMMON_GRID\")\n",
    "print dataDir\n",
    "\n",
    "rcps = ['rcp45', 'rcp85']\n",
    "for rcp in rcps : \n",
    "    \n",
    "    print \"Working on: \" + rcp\n",
    "    \n",
    "    for model in md.model_name.keys() :\n",
    "    \n",
    "        print model\n",
    "                \n",
    "        # see if Temperature and RH file exist\n",
    "        T_file = os.path.join(dataDir, \"tas_Amon_\"+model+\"_\"+rcp+\"_r1i1p1_200601-210012.nc\")\n",
    "        RH_file = os.path.join(dataDir, \"hurs_Amon_\"+model+\"_\"+rcp+\"_r1i1p1_200601-210012.nc\")\n",
    "\n",
    "        # If these files exist (they don't for all models and rcps), continue\n",
    "        if os.path.isfile(T_file) & os.path.isfile(RH_file) : \n",
    "            \n",
    "            # Get the values to calculate e\n",
    "            t2m,t,x,y = get_CMIP_nc('tas', T_file)\n",
    "            RH,t,x,y = get_CMIP_nc('hurs', RH_file)\n",
    "\n",
    "            # get saturation and actual vapor pressure \n",
    "            e_sat = calculate_es(t2m)\n",
    "            e_actual = e_sat * (RH / 100.)\n",
    "\n",
    "            # Calculate VPD using what is known as subtraction\n",
    "            VPD = e_sat - e_actual\n",
    "\n",
    "            write_VPD_CMIP5_nc(VPD, model, rcp, t, x, y,  dataDir)"
   ]
  },
  {
   "cell_type": "code",
   "execution_count": null,
   "metadata": {},
   "outputs": [],
   "source": []
  }
 ],
 "metadata": {
  "kernelspec": {
   "display_name": "Python 2",
   "language": "python",
   "name": "python2"
  },
  "language_info": {
   "codemirror_mode": {
    "name": "ipython",
    "version": 2
   },
   "file_extension": ".py",
   "mimetype": "text/x-python",
   "name": "python",
   "nbconvert_exporter": "python",
   "pygments_lexer": "ipython2",
   "version": "2.7.15"
  }
 },
 "nbformat": 4,
 "nbformat_minor": 2
}

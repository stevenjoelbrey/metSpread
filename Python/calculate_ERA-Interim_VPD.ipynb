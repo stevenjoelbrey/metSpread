{
 "cells": [
  {
   "cell_type": "markdown",
   "metadata": {},
   "source": [
    "# Calculate historical Vapor Pressure Deficit (VPD) grids.\n",
    "\n",
    "Do this for gridded ERA-Interim data using the estimated RH% field. VPD is a simple forula. \n",
    "\n",
    "\\begin{align}\n",
    "VPD & = e_{sat} - e_{actual}\n",
    "\\end{align}\n",
    "\n",
    "where:"
   ]
  },
  {
   "cell_type": "markdown",
   "metadata": {},
   "source": [
    "\\begin{align}\n",
    "e_{actual}=\\frac{e_{sat}*RH)}{100}\n",
    "\\end{align}"
   ]
  },
  {
   "cell_type": "markdown",
   "metadata": {},
   "source": [
    "where the saturation water vopor pressure ($e_{sat}$) is expressed with the Teten's formula:\n",
    "Teton's formula, eq. 7.5 \n",
    "https://www.ecmwf.int/sites/default/files/elibrary/2015/9211-part-iv-physical-processes.pdf\n",
    "\n",
    "\\begin{align}\n",
    "e_{sat}(T) & = a_{1}exp(a_{3}\\frac{T - T_{0}}{T-a_{4}})\\\\\n",
    "\\\\\n",
    "a_{1} & = 611.21Pa \\\\\n",
    "a_{3} & = 17.502 \\\\\n",
    "a_{4} & = 32.19 \\\\\n",
    "T_{0} & = 273.16\n",
    "\\end{align}"
   ]
  },
  {
   "cell_type": "code",
   "execution_count": 22,
   "metadata": {},
   "outputs": [],
   "source": [
    "import numpy as np\n",
    "from netCDF4 import Dataset\n",
    "import os\n",
    "\n",
    "def calculate_es(T):\n",
    "    \"\"\"Calculate saturation vapor pressure using Tetons formula\"\"\"\n",
    "    a1 = 611.21 # Pa\n",
    "    a3 = 17.502  \n",
    "    a4 = 32.19\n",
    "    T0 = 273.16 # K\n",
    "    e_sat = a1 * np.exp( a3 * (T-T0)/(T-a4) )\n",
    "    \n",
    "    return e_sat"
   ]
  },
  {
   "cell_type": "code",
   "execution_count": 23,
   "metadata": {},
   "outputs": [],
   "source": [
    "def get_nc(var, year, dataDir): \n",
    "    loadFile = os.path.join(dataDir, var + \"_\" + str(year) + \".nc\")\n",
    "    nc = Dataset(loadFile)\n",
    "    vals = nc.variables[var][:]\n",
    "    t = nc.variables[\"time\"][:]\n",
    "    lon = nc.variables[\"longitude\"][:]\n",
    "    lat = nc.variables[\"latitude\"][:]\n",
    "    nc.close()\n",
    "    return vals, t, lon, lat"
   ]
  },
  {
   "cell_type": "code",
   "execution_count": 24,
   "metadata": {},
   "outputs": [],
   "source": [
    "def write_VPD_nc(VALS, t, x, y, year, dataDir):\n",
    "    \n",
    "    outputFile = os.path.join(dataDir, \"VPD_\" + str(year) + \".nc\")\n",
    "\n",
    "    ncFile = Dataset(outputFile, 'w', format='NETCDF4')\n",
    "    ncFile.description = 'VPD (saturation pressure relative to water, Tetons eq.)'\n",
    "    ncFile.location = 'Global'\n",
    "    ncFile.createDimension('time',  len(t) )\n",
    "    ncFile.createDimension('latitude', len(y) )\n",
    "    ncFile.createDimension('longitude', len(x) )\n",
    "\n",
    "    VAR_ = ncFile.createVariable(\"VPD\", 'f4',('time', 'latitude','longitude'))\n",
    "    VAR_.long_name = \"Vapor Pressure Deficit\"\n",
    "    VAR_.units = \"Pa\"\n",
    "\n",
    "    # Create time variable\n",
    "    time_ = ncFile.createVariable('time', 'i4', ('time',))\n",
    "    time_.units = \"hours since 1900-01-01 00:00:0.0\"\n",
    "    time_.calendar = \"gregorian\"\n",
    "    \n",
    "    # create lat variable\n",
    "    latitude_ = ncFile.createVariable('latitude', 'f4', ('latitude',))\n",
    "    latitude_.units = 'degrees_north'\n",
    "\n",
    "    # create longitude variable\n",
    "    longitude_ = ncFile.createVariable('longitude', 'f4', ('longitude',))\n",
    "    longitude_.units = 'degrees_east'\n",
    "\n",
    "    # Write the actual data to these dimensions\n",
    "    VAR_[:]       = VALS\n",
    "    time_[:]      = t\n",
    "    latitude_[:]  = y\n",
    "    longitude_[:] = x\n",
    "\n",
    "    ncFile.close()"
   ]
  },
  {
   "cell_type": "markdown",
   "metadata": {},
   "source": [
    "### Use above functions to create VPD file. "
   ]
  },
  {
   "cell_type": "code",
   "execution_count": 25,
   "metadata": {},
   "outputs": [],
   "source": [
    "dataDir = os.path.join(\"..\",\"..\", \"metSpreadData\", \"ERA-Interim\")\n",
    "year = \"1990-2015\"\n",
    "    \n",
    "# Get temperature to calculate es\n",
    "t2m,t,x,y = get_nc(\"t2m\", year, dataDir)\n",
    "    \n",
    "# Get RH% to calculate e_actual\n",
    "RH,t,x,y = get_nc(\"RH\", year, dataDir)\n",
    "\n",
    "# get saturation and actual vapor pressure \n",
    "e_sat = calculate_es(t2m)\n",
    "e_actual = e_sat * (RH / 100.)\n",
    "\n",
    "# Calculate VPD using what is known as subtraction\n",
    "VPD = e_sat - e_actual\n",
    "\n",
    "write_VPD_nc(VPD, t, x, y, year, dataDir)"
   ]
  },
  {
   "cell_type": "markdown",
   "metadata": {},
   "source": [
    "Use cdo remapbil,COMMON_GRID.txt to create the needed file for comparing to CMIP5. Move that file to the metSpread directory. "
   ]
  }
 ],
 "metadata": {
  "kernelspec": {
   "display_name": "Python 2",
   "language": "python",
   "name": "python2"
  },
  "language_info": {
   "codemirror_mode": {
    "name": "ipython",
    "version": 2
   },
   "file_extension": ".py",
   "mimetype": "text/x-python",
   "name": "python",
   "nbconvert_exporter": "python",
   "pygments_lexer": "ipython2",
   "version": "2.7.15"
  }
 },
 "nbformat": 4,
 "nbformat_minor": 2
}

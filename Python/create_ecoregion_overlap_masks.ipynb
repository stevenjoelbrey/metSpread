{
 "cells": [
  {
   "cell_type": "markdown",
   "metadata": {},
   "source": [
    "### Purpose and description of this notebook \n",
    "\n",
    "This notebook is used to see what grid boxes overlap baileys ecoregions. These assigments will be used to select the meteorology for a given ecoregion where fire occurrence in being investigated. \n",
    "- Note on latitude extent, relevant for Marine division, which will be cut at the 50s parallel, in order to match the fire data, which also cuts data in this division to be for washington only, for the time being. "
   ]
  },
  {
   "cell_type": "code",
   "execution_count": 1,
   "metadata": {},
   "outputs": [],
   "source": [
    "from shapely.geometry import Polygon, Point\n",
    "import geopandas\n",
    "import numpy as np\n",
    "import os\n",
    "import matplotlib.pylab as plt"
   ]
  },
  {
   "cell_type": "code",
   "execution_count": 2,
   "metadata": {},
   "outputs": [],
   "source": [
    "from cdo import *\n",
    "cdo = Cdo()"
   ]
  },
  {
   "cell_type": "code",
   "execution_count": 3,
   "metadata": {},
   "outputs": [
    {
     "name": "stdout",
     "output_type": "stream",
     "text": [
      "<class 'geopandas.geodataframe.GeoDataFrame'>\n",
      "{'proj': 'laea', 'lat_0': 45, 'lon_0': -100, 'x_0': 0, 'y_0': 0, 'a': 6370997, 'b': 6370997, 'units': 'm', 'no_defs': True}\n"
     ]
    }
   ],
   "source": [
    "# Load US ecoregions and plot the united states land mass together\n",
    "eco_dir = os.path.join(\"..\", \"Data\", \"LandCover\", \"eco-us-shp\")\n",
    "eco_shp = geopandas.read_file(eco_dir)\n",
    "print(type(eco_shp))\n",
    "print(eco_shp.crs)"
   ]
  },
  {
   "cell_type": "markdown",
   "metadata": {},
   "source": [
    "Reproject the ecoregion to a crs that will be common throughout this code. "
   ]
  },
  {
   "cell_type": "code",
   "execution_count": 4,
   "metadata": {},
   "outputs": [],
   "source": [
    "eco_reprojected = eco_shp.to_crs({'init': '+init=epsg:4326'})"
   ]
  },
  {
   "cell_type": "code",
   "execution_count": 5,
   "metadata": {},
   "outputs": [
    {
     "data": {
      "image/png": "[encoded data removed]",
      "text/plain": [
       "<Figure size 800x300 with 1 Axes>"
      ]
     },
     "metadata": {
      "needs_background": "light"
     },
     "output_type": "display_data"
    }
   ],
   "source": [
    "f, ax = plt.subplots(1, figsize=(4, 1.5), dpi=200)\n",
    "eco_reprojected.plot(ax=ax)\n",
    "plt.show()"
   ]
  },
  {
   "cell_type": "markdown",
   "metadata": {},
   "source": [
    "Get a CMIP5 netcdf file so that we know the grid that needs to be masked with division overlaps. "
   ]
  },
  {
   "cell_type": "code",
   "execution_count": 6,
   "metadata": {},
   "outputs": [],
   "source": [
    "from netCDF4 import Dataset\n",
    "cmip_dir = os.path.join('..','Data','CMIP5','r1i1p1_rcp_COMMON_GRID', 'pr_Amon_CanESM2_rcp85_r1i1p1_198301-210012.nc')\n",
    "cmip = Dataset(cmip_dir,'r')\n",
    "lat = cmip.variables['lat'][:]\n",
    "lon = cmip.variables['lon'][:] - 180. # Will be reprojected using CDO\n",
    "tas = cmip.variables['pr'][:]\n",
    "cmip.close()"
   ]
  },
  {
   "cell_type": "markdown",
   "metadata": {},
   "source": [
    "Get the width and heigh of grid boxes to build polygons from them with. "
   ]
  },
  {
   "cell_type": "code",
   "execution_count": 7,
   "metadata": {},
   "outputs": [
    {
     "name": "stdout",
     "output_type": "stream",
     "text": [
      "[2.5]\n",
      "[2.]\n"
     ]
    }
   ],
   "source": [
    "dx = np.unique(np.diff(lon))\n",
    "print(dx)\n",
    "dy = np.unique(np.diff(lat))\n",
    "print(dy)"
   ]
  },
  {
   "cell_type": "code",
   "execution_count": 8,
   "metadata": {},
   "outputs": [],
   "source": [
    "# Make polygons that describe the global grid\n",
    "grid_polygons = []\n",
    "\n",
    "for i in range(len(lon)) :\n",
    "    for j in range(len(lat)) :\n",
    "        \n",
    "        x_center = lon[i]\n",
    "        y_center = lat[j]\n",
    "        \n",
    "        # Make the four locations that describe a grid box as a polygon\n",
    "        x0 = x_center - dx/2.\n",
    "        x1 = x_center + dx/2.\n",
    "        y0 = y_center - dy/2.\n",
    "        y1 = y_center + dy/2.\n",
    "        \n",
    "        grid_box_poly = Polygon([[x0, y0], [x1, y0], [x1, y1], [x0, y1]])\n",
    "        \n",
    "        grid_polygons.append(grid_box_poly)\n",
    "\n",
    "\n",
    "grid_geo = geopandas.GeoSeries(grid_polygons)"
   ]
  },
  {
   "cell_type": "code",
   "execution_count": 9,
   "metadata": {},
   "outputs": [
    {
     "data": {
      "text/plain": [
       "12960"
      ]
     },
     "execution_count": 9,
     "metadata": {},
     "output_type": "execute_result"
    }
   ],
   "source": [
    "len(grid_polygons)"
   ]
  },
  {
   "cell_type": "code",
   "execution_count": 10,
   "metadata": {},
   "outputs": [],
   "source": [
    "# Make a GeoDataFrame\n",
    "grid_geo_df = geopandas.GeoDataFrame({'geometry':grid_polygons, 'grid_ID': np.arange(len(grid_polygons))})\n",
    "# CRS projection to assign to grid boxes when made into polygons. Matches that\n",
    "# Assigned to the ecoregions plotted above. \n",
    "crs_to_assign = {'init': '+init=epsg:4326'}\n",
    "grid_geo_df.crs = crs_to_assign"
   ]
  },
  {
   "cell_type": "code",
   "execution_count": 11,
   "metadata": {},
   "outputs": [
    {
     "data": {
      "text/plain": [
       "<matplotlib.axes._subplots.AxesSubplot at 0x117693278>"
      ]
     },
     "execution_count": 11,
     "metadata": {},
     "output_type": "execute_result"
    },
    {
     "data": {
      "image/png": "[encoded data removed]",
      "text/plain": [
       "<Figure size 432x288 with 1 Axes>"
      ]
     },
     "metadata": {
      "needs_background": "light"
     },
     "output_type": "display_data"
    }
   ],
   "source": [
    "grid_geo_df.plot('grid_ID')"
   ]
  },
  {
   "cell_type": "code",
   "execution_count": 12,
   "metadata": {},
   "outputs": [],
   "source": [
    "# Get world land mass file and set to the same crs \n",
    "world = geopandas.read_file(geopandas.datasets.get_path('naturalearth_lowres'))\n",
    "world_df = world.to_crs(crs_to_assign)"
   ]
  },
  {
   "cell_type": "code",
   "execution_count": 13,
   "metadata": {},
   "outputs": [
    {
     "data": {
      "text/plain": [
       "<Figure size 600x400 with 0 Axes>"
      ]
     },
     "metadata": {},
     "output_type": "display_data"
    },
    {
     "data": {
      "image/png": "[encoded data removed]",
      "text/plain": [
       "<Figure size 432x288 with 1 Axes>"
      ]
     },
     "metadata": {
      "needs_background": "light"
     },
     "output_type": "display_data"
    }
   ],
   "source": [
    "plt.figure(dpi=100)\n",
    "base = grid_geo_df.plot('grid_ID')\n",
    "world_df.plot(ax=base)\n",
    "eco_reprojected.plot(ax=base, color='red')\n",
    "plt.show()"
   ]
  },
  {
   "cell_type": "code",
   "execution_count": 14,
   "metadata": {},
   "outputs": [],
   "source": [
    "# The grid_ID that show up in overlap are the ones I need to flag as overlapping land. \n",
    "overlap = geopandas.overlay(grid_geo_df, world_df, how='intersection')"
   ]
  },
  {
   "cell_type": "code",
   "execution_count": 15,
   "metadata": {},
   "outputs": [
    {
     "data": {
      "text/plain": [
       "Index(['grid_ID', 'pop_est', 'continent', 'name', 'iso_a3', 'gdp_md_est',\n",
       "       'geometry'],\n",
       "      dtype='object')"
      ]
     },
     "execution_count": 15,
     "metadata": {},
     "output_type": "execute_result"
    }
   ],
   "source": [
    "overlap.columns"
   ]
  },
  {
   "cell_type": "code",
   "execution_count": 16,
   "metadata": {},
   "outputs": [
    {
     "data": {
      "text/plain": [
       "[<matplotlib.lines.Line2D at 0x31cdb9438>]"
      ]
     },
     "execution_count": 16,
     "metadata": {},
     "output_type": "execute_result"
    },
    {
     "data": {
      "image/png": "[encoded data removed]",
      "text/plain": [
       "<Figure size 432x288 with 1 Axes>"
      ]
     },
     "metadata": {
      "needs_background": "light"
     },
     "output_type": "display_data"
    }
   ],
   "source": [
    "unique_overlapping_grid_IDs = np.unique(np.array(overlap.grid_ID.copy()))\n",
    "plt.plot(np.sort(unique_overlapping_grid_IDs))"
   ]
  },
  {
   "cell_type": "code",
   "execution_count": 17,
   "metadata": {},
   "outputs": [
    {
     "name": "stdout",
     "output_type": "stream",
     "text": [
      "5322\n",
      "5322\n"
     ]
    }
   ],
   "source": [
    "print(len(unique_overlapping_grid_IDs))\n",
    "print(len(np.unique(unique_overlapping_grid_IDs)))"
   ]
  },
  {
   "cell_type": "code",
   "execution_count": 18,
   "metadata": {},
   "outputs": [
    {
     "name": "stdout",
     "output_type": "stream",
     "text": [
      "Index(['geometry', 'grid_ID'], dtype='object')\n",
      "Index(['pop_est', 'continent', 'name', 'iso_a3', 'gdp_md_est', 'geometry'], dtype='object')\n"
     ]
    }
   ],
   "source": [
    "print(grid_geo_df.columns)\n",
    "print(world_df.columns)"
   ]
  },
  {
   "cell_type": "code",
   "execution_count": 19,
   "metadata": {
    "scrolled": true
   },
   "outputs": [
    {
     "data": {
      "text/plain": [
       "<matplotlib.axes._subplots.AxesSubplot at 0x31cd9ebe0>"
      ]
     },
     "execution_count": 19,
     "metadata": {},
     "output_type": "execute_result"
    },
    {
     "data": {
      "image/png": "[encoded data removed]",
      "text/plain": [
       "<Figure size 432x288 with 1 Axes>"
      ]
     },
     "metadata": {
      "needs_background": "light"
     },
     "output_type": "display_data"
    }
   ],
   "source": [
    "# Show where the world land data overlaps some part of the synthetic grid \n",
    "overlap.plot()"
   ]
  },
  {
   "cell_type": "code",
   "execution_count": 20,
   "metadata": {},
   "outputs": [
    {
     "data": {
      "text/plain": [
       "<matplotlib.axes._subplots.AxesSubplot at 0x31cd21ac8>"
      ]
     },
     "execution_count": 20,
     "metadata": {},
     "output_type": "execute_result"
    },
    {
     "data": {
      "image/png": "[encoded data removed]",
      "text/plain": [
       "<Figure size 432x288 with 1 Axes>"
      ]
     },
     "metadata": {
      "needs_background": "light"
     },
     "output_type": "display_data"
    }
   ],
   "source": [
    "# Show what CMIP5 common grid cells overlap land. \n",
    "grid_geo_df.iloc[unique_overlapping_grid_IDs,:].plot()"
   ]
  },
  {
   "cell_type": "code",
   "execution_count": 21,
   "metadata": {},
   "outputs": [
    {
     "data": {
      "text/plain": [
       "<matplotlib.collections.PolyCollection at 0x31d204358>"
      ]
     },
     "execution_count": 21,
     "metadata": {},
     "output_type": "execute_result"
    },
    {
     "data": {
      "image/png": "[encoded data removed]",
      "text/plain": [
       "<Figure size 432x288 with 1 Axes>"
      ]
     },
     "metadata": {
      "needs_background": "light"
     },
     "output_type": "display_data"
    }
   ],
   "source": [
    "# Translate back to the original lat lon grid \n",
    "land_mask = np.zeros((len(lat), len(lon)), dtype=int)\n",
    "count = 0\n",
    "for i in range(len(lon)) :\n",
    "    for j in range(len(lat)) :\n",
    "        n_in_array = np.sum(count == unique_overlapping_grid_IDs)\n",
    "        if n_in_array > 0 :\n",
    "            land_mask[j,i] = 1\n",
    "        count += 1\n",
    "        \n",
    "plt.pcolor(land_mask)"
   ]
  },
  {
   "cell_type": "code",
   "execution_count": 22,
   "metadata": {},
   "outputs": [
    {
     "data": {
      "text/plain": [
       "'../Data/LandCover/common_grid_land_mask.nc'"
      ]
     },
     "execution_count": 22,
     "metadata": {},
     "output_type": "execute_result"
    }
   ],
   "source": [
    "# Write this land mask as a netcdf file \n",
    "outputFile = os.path.join(\"..\",\"Data\",\"LandCover\", \"land_mask.nc\")\n",
    "outputFileCommonGrid = os.path.join(\"..\",\"Data\",\"LandCover\", \"common_grid_land_mask.nc\")\n",
    "\n",
    "ncFile = Dataset(outputFile, 'w', format='NETCDF4')\n",
    "ncFile.description = 'Land mask according to netcdf grid box overlap with naturalearth_lowres grom geopandas'\n",
    "ncFile.location = 'Global'\n",
    "ncFile.createDimension('latitude', len(lat) )\n",
    "ncFile.createDimension('longitude', len(lon) )\n",
    "\n",
    "# Create data variables\n",
    "VAR_ = ncFile.createVariable(\"land_mask\", 'f4',('latitude','longitude'))\n",
    "VAR_.units = \"1=land, 0=not land\"\n",
    "\n",
    "# create lat variable\n",
    "latitude_ = ncFile.createVariable('latitude', 'f4', ('latitude',))\n",
    "latitude_.units = 'degrees_north'\n",
    "latitude_.axis = \"Y\"\n",
    "\n",
    "# create longitude variable\n",
    "longitude_ = ncFile.createVariable('longitude', 'f4', ('longitude',))\n",
    "longitude_.units = \"degrees_east\"\n",
    "longitude_.long_name = \"longitude\"\n",
    "longitude_.axis = \"X\"\n",
    "#longitude_.lon_bnds = lon_bnds\n",
    "\n",
    "# Write the actual data to these dimensions\n",
    "VAR_[:]       = land_mask[:]\n",
    "latitude_[:]  = np.array(lat)\n",
    "longitude_[:] = np.array(lon)\n",
    "ncFile.close()\n",
    "\n",
    "\n",
    "common_grid_file = os.path.join(\"..\",\"Data\",\"LandCover\",'COMMON_GRID.txt')\n",
    "cdo.remapbil(common_grid_file, input=outputFile, output=outputFileCommonGrid, options=\"-b F64\")"
   ]
  },
  {
   "cell_type": "code",
   "execution_count": 23,
   "metadata": {},
   "outputs": [
    {
     "data": {
      "text/plain": [
       "<matplotlib.axes._subplots.AxesSubplot at 0x3194e6eb8>"
      ]
     },
     "execution_count": 23,
     "metadata": {},
     "output_type": "execute_result"
    },
    {
     "data": {
      "image/png": "[encoded data removed]",
      "text/plain": [
       "<Figure size 432x288 with 1 Axes>"
      ]
     },
     "metadata": {
      "needs_background": "light"
     },
     "output_type": "display_data"
    }
   ],
   "source": [
    "# Read in bailyes shapes\n",
    "bailys_shp = eco_reprojected\n",
    "bailys_shp.plot()"
   ]
  },
  {
   "cell_type": "code",
   "execution_count": 30,
   "metadata": {},
   "outputs": [
    {
     "data": {
      "text/plain": [
       "<Figure size 600x400 with 0 Axes>"
      ]
     },
     "metadata": {},
     "output_type": "display_data"
    },
    {
     "data": {
      "image/png": "[encoded data removed]",
      "text/plain": [
       "<Figure size 432x288 with 1 Axes>"
      ]
     },
     "metadata": {
      "needs_background": "light"
     },
     "output_type": "display_data"
    }
   ],
   "source": [
    "plt.figure(dpi=100)\n",
    "base = grid_geo_df.plot('grid_ID')\n",
    "world_df.plot(ax=base)\n",
    "bailys_shp.plot(ax=base, color='red')\n",
    "plt.show()"
   ]
  },
  {
   "cell_type": "code",
   "execution_count": 24,
   "metadata": {},
   "outputs": [],
   "source": [
    "overlap = geopandas.overlay(grid_geo_df, bailys_shp, how='intersection')"
   ]
  },
  {
   "cell_type": "code",
   "execution_count": 25,
   "metadata": {},
   "outputs": [
    {
     "data": {
      "text/plain": [
       "Index(['grid_ID', 'AREA', 'PERIMETER', 'ECO_US_', 'ECO_US_ID', 'ECOCODE',\n",
       "       'DOMAIN', 'DIVISION', 'PROVINCE', 'SECTION', 'geometry'],\n",
       "      dtype='object')"
      ]
     },
     "execution_count": 25,
     "metadata": {},
     "output_type": "execute_result"
    }
   ],
   "source": [
    "overlap.columns"
   ]
  },
  {
   "cell_type": "code",
   "execution_count": 26,
   "metadata": {},
   "outputs": [
    {
     "data": {
      "text/plain": [
       "<Figure size 900x600 with 0 Axes>"
      ]
     },
     "metadata": {},
     "output_type": "display_data"
    },
    {
     "data": {
      "image/png": "[encoded data removed]",
      "text/plain": [
       "<Figure size 432x288 with 1 Axes>"
      ]
     },
     "metadata": {
      "needs_background": "light"
     },
     "output_type": "display_data"
    }
   ],
   "source": [
    "plt.figure(dpi=150)\n",
    "ax=overlap.plot(column='DOMAIN')\n",
    "#ax.set_xlim(left=-130, right=-65)\n",
    "#ax.set_ylim(bottom=25, top=50)\n",
    "plt.show()"
   ]
  },
  {
   "cell_type": "code",
   "execution_count": 27,
   "metadata": {},
   "outputs": [
    {
     "data": {
      "image/png": "[encoded data removed]",
      "text/plain": [
       "<Figure size 1600x600 with 1 Axes>"
      ]
     },
     "metadata": {
      "needs_background": "light"
     },
     "output_type": "display_data"
    }
   ],
   "source": [
    "f, ax = plt.subplots(1, figsize=(8, 3), dpi=200)\n",
    "ax1=overlap.plot(ax=ax, column='DIVISION')\n",
    "#ax.set_xlim(left=-130, right=-65)\n",
    "#ax.set_ylim(bottom=25, top=50)\n",
    "plt.show()"
   ]
  },
  {
   "cell_type": "code",
   "execution_count": 28,
   "metadata": {},
   "outputs": [
    {
     "data": {
      "image/png": "[encoded data removed]",
      "text/plain": [
       "<Figure size 1600x600 with 1 Axes>"
      ]
     },
     "metadata": {
      "needs_background": "light"
     },
     "output_type": "display_data"
    }
   ],
   "source": [
    "f, ax = plt.subplots(1, figsize=(8, 3), dpi=200)\n",
    "ax1=overlap.plot(ax=ax, column='PROVINCE')\n",
    "#ax.set_xlim(left=-130, right=-65)\n",
    "#ax.set_ylim(bottom=25, top=50)\n",
    "plt.show()"
   ]
  },
  {
   "cell_type": "code",
   "execution_count": 29,
   "metadata": {},
   "outputs": [
    {
     "data": {
      "text/html": [
       "<div>\n",
       "<style scoped>\n",
       "    .dataframe tbody tr th:only-of-type {\n",
       "        vertical-align: middle;\n",
       "    }\n",
       "\n",
       "    .dataframe tbody tr th {\n",
       "        vertical-align: top;\n",
       "    }\n",
       "\n",
       "    .dataframe thead th {\n",
       "        text-align: right;\n",
       "    }\n",
       "</style>\n",
       "<table border=\"1\" class=\"dataframe\">\n",
       "  <thead>\n",
       "    <tr style=\"text-align: right;\">\n",
       "      <th></th>\n",
       "      <th>grid_ID</th>\n",
       "      <th>AREA</th>\n",
       "      <th>PERIMETER</th>\n",
       "      <th>ECO_US_</th>\n",
       "      <th>ECO_US_ID</th>\n",
       "      <th>ECOCODE</th>\n",
       "      <th>DOMAIN</th>\n",
       "      <th>DIVISION</th>\n",
       "      <th>PROVINCE</th>\n",
       "      <th>SECTION</th>\n",
       "      <th>geometry</th>\n",
       "    </tr>\n",
       "  </thead>\n",
       "  <tbody>\n",
       "    <tr>\n",
       "      <th>0</th>\n",
       "      <td>70</td>\n",
       "      <td>3.476444e+07</td>\n",
       "      <td>28823.936</td>\n",
       "      <td>172</td>\n",
       "      <td>330</td>\n",
       "      <td>M127B</td>\n",
       "      <td>POLAR DOMAIN</td>\n",
       "      <td>Tundra Regime Mountains</td>\n",
       "      <td>Aleutian Oceanic Meadow-Heath Province</td>\n",
       "      <td>Aleutian Islands Section</td>\n",
       "      <td>POLYGON ((-179.1244647910996 51.23042849958596...</td>\n",
       "    </tr>\n",
       "    <tr>\n",
       "      <th>1</th>\n",
       "      <td>70</td>\n",
       "      <td>3.063581e+07</td>\n",
       "      <td>32376.520</td>\n",
       "      <td>174</td>\n",
       "      <td>332</td>\n",
       "      <td>M127B</td>\n",
       "      <td>POLAR DOMAIN</td>\n",
       "      <td>Tundra Regime Mountains</td>\n",
       "      <td>Aleutian Oceanic Meadow-Heath Province</td>\n",
       "      <td>Aleutian Islands Section</td>\n",
       "      <td>POLYGON ((-178.8988488208616 51.34351033187876...</td>\n",
       "    </tr>\n",
       "    <tr>\n",
       "      <th>2</th>\n",
       "      <td>70</td>\n",
       "      <td>2.572425e+05</td>\n",
       "      <td>2076.692</td>\n",
       "      <td>173</td>\n",
       "      <td>331</td>\n",
       "      <td>M127B</td>\n",
       "      <td>POLAR DOMAIN</td>\n",
       "      <td>Tundra Regime Mountains</td>\n",
       "      <td>Aleutian Oceanic Meadow-Heath Province</td>\n",
       "      <td>Aleutian Islands Section</td>\n",
       "      <td>POLYGON ((-179.0075217978461 51.35685690992545...</td>\n",
       "    </tr>\n",
       "    <tr>\n",
       "      <th>3</th>\n",
       "      <td>70</td>\n",
       "      <td>1.262698e+06</td>\n",
       "      <td>4520.111</td>\n",
       "      <td>189</td>\n",
       "      <td>345</td>\n",
       "      <td>M127B</td>\n",
       "      <td>POLAR DOMAIN</td>\n",
       "      <td>Tundra Regime Mountains</td>\n",
       "      <td>Aleutian Oceanic Meadow-Heath Province</td>\n",
       "      <td>Aleutian Islands Section</td>\n",
       "      <td>POLYGON ((-178.2651666150719 51.48188063368989...</td>\n",
       "    </tr>\n",
       "    <tr>\n",
       "      <th>4</th>\n",
       "      <td>70</td>\n",
       "      <td>1.454366e+07</td>\n",
       "      <td>22864.043</td>\n",
       "      <td>171</td>\n",
       "      <td>329</td>\n",
       "      <td>M127B</td>\n",
       "      <td>POLAR DOMAIN</td>\n",
       "      <td>Tundra Regime Mountains</td>\n",
       "      <td>Aleutian Oceanic Meadow-Heath Province</td>\n",
       "      <td>Aleutian Islands Section</td>\n",
       "      <td>POLYGON ((-178.7911385171696 51.54583912306455...</td>\n",
       "    </tr>\n",
       "    <tr>\n",
       "      <th>5</th>\n",
       "      <td>70</td>\n",
       "      <td>1.982020e+06</td>\n",
       "      <td>7019.317</td>\n",
       "      <td>166</td>\n",
       "      <td>324</td>\n",
       "      <td>M127B</td>\n",
       "      <td>POLAR DOMAIN</td>\n",
       "      <td>Tundra Regime Mountains</td>\n",
       "      <td>Aleutian Oceanic Meadow-Heath Province</td>\n",
       "      <td>Aleutian Islands Section</td>\n",
       "      <td>POLYGON ((-179.0264405836872 51.57823684882069...</td>\n",
       "    </tr>\n",
       "    <tr>\n",
       "      <th>6</th>\n",
       "      <td>70</td>\n",
       "      <td>3.908319e+06</td>\n",
       "      <td>10204.708</td>\n",
       "      <td>177</td>\n",
       "      <td>335</td>\n",
       "      <td>M127B</td>\n",
       "      <td>POLAR DOMAIN</td>\n",
       "      <td>Tundra Regime Mountains</td>\n",
       "      <td>Aleutian Oceanic Meadow-Heath Province</td>\n",
       "      <td>Aleutian Islands Section</td>\n",
       "      <td>POLYGON ((-178.5836462072571 51.58622849366728...</td>\n",
       "    </tr>\n",
       "    <tr>\n",
       "      <th>7</th>\n",
       "      <td>70</td>\n",
       "      <td>9.079304e+06</td>\n",
       "      <td>15467.438</td>\n",
       "      <td>176</td>\n",
       "      <td>334</td>\n",
       "      <td>M127B</td>\n",
       "      <td>POLAR DOMAIN</td>\n",
       "      <td>Tundra Regime Mountains</td>\n",
       "      <td>Aleutian Oceanic Meadow-Heath Province</td>\n",
       "      <td>Aleutian Islands Section</td>\n",
       "      <td>POLYGON ((-178.6538993612175 51.59302781743194...</td>\n",
       "    </tr>\n",
       "    <tr>\n",
       "      <th>8</th>\n",
       "      <td>70</td>\n",
       "      <td>2.018659e+05</td>\n",
       "      <td>1917.632</td>\n",
       "      <td>194</td>\n",
       "      <td>350</td>\n",
       "      <td>M127B</td>\n",
       "      <td>POLAR DOMAIN</td>\n",
       "      <td>Tundra Regime Mountains</td>\n",
       "      <td>Aleutian Oceanic Meadow-Heath Province</td>\n",
       "      <td>Aleutian Islands Section</td>\n",
       "      <td>POLYGON ((-177.6664429626198 51.65683399404497...</td>\n",
       "    </tr>\n",
       "    <tr>\n",
       "      <th>9</th>\n",
       "      <td>70</td>\n",
       "      <td>5.363755e+08</td>\n",
       "      <td>184377.040</td>\n",
       "      <td>178</td>\n",
       "      <td>17</td>\n",
       "      <td>M127B</td>\n",
       "      <td>POLAR DOMAIN</td>\n",
       "      <td>Tundra Regime Mountains</td>\n",
       "      <td>Aleutian Oceanic Meadow-Heath Province</td>\n",
       "      <td>Aleutian Islands Section</td>\n",
       "      <td>POLYGON ((-178.0786870970876 51.66576161637781...</td>\n",
       "    </tr>\n",
       "    <tr>\n",
       "      <th>10</th>\n",
       "      <td>70</td>\n",
       "      <td>6.665270e+07</td>\n",
       "      <td>31844.227</td>\n",
       "      <td>163</td>\n",
       "      <td>322</td>\n",
       "      <td>M127B</td>\n",
       "      <td>POLAR DOMAIN</td>\n",
       "      <td>Tundra Regime Mountains</td>\n",
       "      <td>Aleutian Oceanic Meadow-Heath Province</td>\n",
       "      <td>Aleutian Islands Section</td>\n",
       "      <td>POLYGON ((-178.7239386617649 51.78970847002149...</td>\n",
       "    </tr>\n",
       "    <tr>\n",
       "      <th>11</th>\n",
       "      <td>70</td>\n",
       "      <td>3.646932e+08</td>\n",
       "      <td>169118.340</td>\n",
       "      <td>192</td>\n",
       "      <td>348</td>\n",
       "      <td>M127B</td>\n",
       "      <td>POLAR DOMAIN</td>\n",
       "      <td>Tundra Regime Mountains</td>\n",
       "      <td>Aleutian Oceanic Meadow-Heath Province</td>\n",
       "      <td>Aleutian Islands Section</td>\n",
       "      <td>POLYGON ((-177.5 51.74615985985753, -177.5 51....</td>\n",
       "    </tr>\n",
       "    <tr>\n",
       "      <th>22</th>\n",
       "      <td>160</td>\n",
       "      <td>3.646932e+08</td>\n",
       "      <td>169118.340</td>\n",
       "      <td>192</td>\n",
       "      <td>348</td>\n",
       "      <td>M127B</td>\n",
       "      <td>POLAR DOMAIN</td>\n",
       "      <td>Tundra Regime Mountains</td>\n",
       "      <td>Aleutian Oceanic Meadow-Heath Province</td>\n",
       "      <td>Aleutian Islands Section</td>\n",
       "      <td>POLYGON ((-177.5 51.70813786123597, -177.5 51....</td>\n",
       "    </tr>\n",
       "    <tr>\n",
       "      <th>12</th>\n",
       "      <td>160</td>\n",
       "      <td>6.029854e+05</td>\n",
       "      <td>4054.722</td>\n",
       "      <td>222</td>\n",
       "      <td>374</td>\n",
       "      <td>M127B</td>\n",
       "      <td>POLAR DOMAIN</td>\n",
       "      <td>Tundra Regime Mountains</td>\n",
       "      <td>Aleutian Oceanic Meadow-Heath Province</td>\n",
       "      <td>Aleutian Islands Section</td>\n",
       "      <td>POLYGON ((-176.6336534078786 51.65565780344645...</td>\n",
       "    </tr>\n",
       "    <tr>\n",
       "      <th>13</th>\n",
       "      <td>160</td>\n",
       "      <td>1.352340e+06</td>\n",
       "      <td>6673.258</td>\n",
       "      <td>223</td>\n",
       "      <td>375</td>\n",
       "      <td>M127B</td>\n",
       "      <td>POLAR DOMAIN</td>\n",
       "      <td>Tundra Regime Mountains</td>\n",
       "      <td>Aleutian Oceanic Meadow-Heath Province</td>\n",
       "      <td>Aleutian Islands Section</td>\n",
       "      <td>POLYGON ((-176.6174897976527 51.66129400507608...</td>\n",
       "    </tr>\n",
       "    <tr>\n",
       "      <th>14</th>\n",
       "      <td>160</td>\n",
       "      <td>4.023427e+05</td>\n",
       "      <td>3386.368</td>\n",
       "      <td>224</td>\n",
       "      <td>376</td>\n",
       "      <td>M127B</td>\n",
       "      <td>POLAR DOMAIN</td>\n",
       "      <td>Tundra Regime Mountains</td>\n",
       "      <td>Aleutian Oceanic Meadow-Heath Province</td>\n",
       "      <td>Aleutian Islands Section</td>\n",
       "      <td>POLYGON ((-176.5832521208576 51.69612310326886...</td>\n",
       "    </tr>\n",
       "    <tr>\n",
       "      <th>15</th>\n",
       "      <td>160</td>\n",
       "      <td>2.989225e+06</td>\n",
       "      <td>10894.577</td>\n",
       "      <td>227</td>\n",
       "      <td>378</td>\n",
       "      <td>M127B</td>\n",
       "      <td>POLAR DOMAIN</td>\n",
       "      <td>Tundra Regime Mountains</td>\n",
       "      <td>Aleutian Oceanic Meadow-Heath Province</td>\n",
       "      <td>Aleutian Islands Section</td>\n",
       "      <td>POLYGON ((-176.5075648121302 51.71427291757148...</td>\n",
       "    </tr>\n",
       "    <tr>\n",
       "      <th>16</th>\n",
       "      <td>160</td>\n",
       "      <td>6.291926e+05</td>\n",
       "      <td>3790.531</td>\n",
       "      <td>226</td>\n",
       "      <td>377</td>\n",
       "      <td>M127B</td>\n",
       "      <td>POLAR DOMAIN</td>\n",
       "      <td>Tundra Regime Mountains</td>\n",
       "      <td>Aleutian Oceanic Meadow-Heath Province</td>\n",
       "      <td>Aleutian Islands Section</td>\n",
       "      <td>POLYGON ((-176.4973308751114 51.73506415072682...</td>\n",
       "    </tr>\n",
       "    <tr>\n",
       "      <th>17</th>\n",
       "      <td>160</td>\n",
       "      <td>2.735958e+05</td>\n",
       "      <td>2395.510</td>\n",
       "      <td>229</td>\n",
       "      <td>380</td>\n",
       "      <td>M127B</td>\n",
       "      <td>POLAR DOMAIN</td>\n",
       "      <td>Tundra Regime Mountains</td>\n",
       "      <td>Aleutian Oceanic Meadow-Heath Province</td>\n",
       "      <td>Aleutian Islands Section</td>\n",
       "      <td>POLYGON ((-176.48326240938 51.75303328757342, ...</td>\n",
       "    </tr>\n",
       "    <tr>\n",
       "      <th>18</th>\n",
       "      <td>160</td>\n",
       "      <td>7.192836e+08</td>\n",
       "      <td>308153.430</td>\n",
       "      <td>205</td>\n",
       "      <td>17</td>\n",
       "      <td>M127B</td>\n",
       "      <td>POLAR DOMAIN</td>\n",
       "      <td>Tundra Regime Mountains</td>\n",
       "      <td>Aleutian Oceanic Meadow-Heath Province</td>\n",
       "      <td>Aleutian Islands Section</td>\n",
       "      <td>POLYGON ((-176.5821726924069 52, -176.55933123...</td>\n",
       "    </tr>\n",
       "    <tr>\n",
       "      <th>45</th>\n",
       "      <td>161</td>\n",
       "      <td>7.192836e+08</td>\n",
       "      <td>308153.430</td>\n",
       "      <td>205</td>\n",
       "      <td>17</td>\n",
       "      <td>M127B</td>\n",
       "      <td>POLAR DOMAIN</td>\n",
       "      <td>Tundra Regime Mountains</td>\n",
       "      <td>Aleutian Oceanic Meadow-Heath Province</td>\n",
       "      <td>Aleutian Islands Section</td>\n",
       "      <td>POLYGON ((-176.5593312337195 52, -176.58217269...</td>\n",
       "    </tr>\n",
       "    <tr>\n",
       "      <th>19</th>\n",
       "      <td>160</td>\n",
       "      <td>3.941411e+05</td>\n",
       "      <td>2610.791</td>\n",
       "      <td>244</td>\n",
       "      <td>394</td>\n",
       "      <td>M127B</td>\n",
       "      <td>POLAR DOMAIN</td>\n",
       "      <td>Tundra Regime Mountains</td>\n",
       "      <td>Aleutian Oceanic Meadow-Heath Province</td>\n",
       "      <td>Aleutian Islands Section</td>\n",
       "      <td>POLYGON ((-176.1273356350796 51.7958928999463,...</td>\n",
       "    </tr>\n",
       "    <tr>\n",
       "      <th>20</th>\n",
       "      <td>160</td>\n",
       "      <td>1.169380e+08</td>\n",
       "      <td>79416.031</td>\n",
       "      <td>225</td>\n",
       "      <td>17</td>\n",
       "      <td>M127B</td>\n",
       "      <td>POLAR DOMAIN</td>\n",
       "      <td>Tundra Regime Mountains</td>\n",
       "      <td>Aleutian Oceanic Meadow-Heath Province</td>\n",
       "      <td>Aleutian Islands Section</td>\n",
       "      <td>POLYGON ((-176.3161492253484 51.75915791576602...</td>\n",
       "    </tr>\n",
       "    <tr>\n",
       "      <th>21</th>\n",
       "      <td>160</td>\n",
       "      <td>9.232251e+05</td>\n",
       "      <td>4077.416</td>\n",
       "      <td>213</td>\n",
       "      <td>368</td>\n",
       "      <td>M127B</td>\n",
       "      <td>POLAR DOMAIN</td>\n",
       "      <td>Tundra Regime Mountains</td>\n",
       "      <td>Aleutian Oceanic Meadow-Heath Province</td>\n",
       "      <td>Aleutian Islands Section</td>\n",
       "      <td>POLYGON ((-176.7661154698139 51.79745072279592...</td>\n",
       "    </tr>\n",
       "    <tr>\n",
       "      <th>23</th>\n",
       "      <td>160</td>\n",
       "      <td>1.414971e+06</td>\n",
       "      <td>5959.567</td>\n",
       "      <td>210</td>\n",
       "      <td>365</td>\n",
       "      <td>M127B</td>\n",
       "      <td>POLAR DOMAIN</td>\n",
       "      <td>Tundra Regime Mountains</td>\n",
       "      <td>Aleutian Oceanic Meadow-Heath Province</td>\n",
       "      <td>Aleutian Islands Section</td>\n",
       "      <td>POLYGON ((-176.8055442793797 51.80211892621951...</td>\n",
       "    </tr>\n",
       "    <tr>\n",
       "      <th>24</th>\n",
       "      <td>160</td>\n",
       "      <td>8.533084e+05</td>\n",
       "      <td>4558.261</td>\n",
       "      <td>212</td>\n",
       "      <td>367</td>\n",
       "      <td>M127B</td>\n",
       "      <td>POLAR DOMAIN</td>\n",
       "      <td>Tundra Regime Mountains</td>\n",
       "      <td>Aleutian Oceanic Meadow-Heath Province</td>\n",
       "      <td>Aleutian Islands Section</td>\n",
       "      <td>POLYGON ((-176.7710105078639 51.81368821596022...</td>\n",
       "    </tr>\n",
       "    <tr>\n",
       "      <th>25</th>\n",
       "      <td>160</td>\n",
       "      <td>3.381768e+05</td>\n",
       "      <td>2266.204</td>\n",
       "      <td>208</td>\n",
       "      <td>363</td>\n",
       "      <td>M127B</td>\n",
       "      <td>POLAR DOMAIN</td>\n",
       "      <td>Tundra Regime Mountains</td>\n",
       "      <td>Aleutian Oceanic Meadow-Heath Province</td>\n",
       "      <td>Aleutian Islands Section</td>\n",
       "      <td>POLYGON ((-176.8751338805705 51.81766652153887...</td>\n",
       "    </tr>\n",
       "    <tr>\n",
       "      <th>26</th>\n",
       "      <td>160</td>\n",
       "      <td>7.307954e+07</td>\n",
       "      <td>78978.422</td>\n",
       "      <td>236</td>\n",
       "      <td>17</td>\n",
       "      <td>M127B</td>\n",
       "      <td>POLAR DOMAIN</td>\n",
       "      <td>Tundra Regime Mountains</td>\n",
       "      <td>Aleutian Oceanic Meadow-Heath Province</td>\n",
       "      <td>Aleutian Islands Section</td>\n",
       "      <td>POLYGON ((-175.9919287932077 51.80118964051361...</td>\n",
       "    </tr>\n",
       "    <tr>\n",
       "      <th>27</th>\n",
       "      <td>160</td>\n",
       "      <td>1.902677e+05</td>\n",
       "      <td>1699.573</td>\n",
       "      <td>206</td>\n",
       "      <td>361</td>\n",
       "      <td>M127B</td>\n",
       "      <td>POLAR DOMAIN</td>\n",
       "      <td>Tundra Regime Mountains</td>\n",
       "      <td>Aleutian Oceanic Meadow-Heath Province</td>\n",
       "      <td>Aleutian Islands Section</td>\n",
       "      <td>POLYGON ((-176.8847200652658 51.83194212072625...</td>\n",
       "    </tr>\n",
       "    <tr>\n",
       "      <th>28</th>\n",
       "      <td>160</td>\n",
       "      <td>5.362733e+05</td>\n",
       "      <td>2920.776</td>\n",
       "      <td>211</td>\n",
       "      <td>366</td>\n",
       "      <td>M127B</td>\n",
       "      <td>POLAR DOMAIN</td>\n",
       "      <td>Tundra Regime Mountains</td>\n",
       "      <td>Aleutian Oceanic Meadow-Heath Province</td>\n",
       "      <td>Aleutian Islands Section</td>\n",
       "      <td>POLYGON ((-176.7758180290586 51.83459986546941...</td>\n",
       "    </tr>\n",
       "    <tr>\n",
       "      <th>...</th>\n",
       "      <td>...</td>\n",
       "      <td>...</td>\n",
       "      <td>...</td>\n",
       "      <td>...</td>\n",
       "      <td>...</td>\n",
       "      <td>...</td>\n",
       "      <td>...</td>\n",
       "      <td>...</td>\n",
       "      <td>...</td>\n",
       "      <td>...</td>\n",
       "      <td>...</td>\n",
       "    </tr>\n",
       "    <tr>\n",
       "      <th>4425</th>\n",
       "      <td>4194</td>\n",
       "      <td>5.293139e+05</td>\n",
       "      <td>4194.500</td>\n",
       "      <td>2691</td>\n",
       "      <td>2847</td>\n",
       "      <td>M411A</td>\n",
       "      <td>HUMID TROPICAL DOMAIN</td>\n",
       "      <td>Savanna Regime Mountains</td>\n",
       "      <td>Puerto Rico Province</td>\n",
       "      <td>Dry-Humid Mountains Section</td>\n",
       "      <td>POLYGON ((-64.97226743999364 18.38587124874779...</td>\n",
       "    </tr>\n",
       "    <tr>\n",
       "      <th>4426</th>\n",
       "      <td>4194</td>\n",
       "      <td>1.974137e+06</td>\n",
       "      <td>6827.866</td>\n",
       "      <td>2685</td>\n",
       "      <td>2841</td>\n",
       "      <td>M411A</td>\n",
       "      <td>HUMID TROPICAL DOMAIN</td>\n",
       "      <td>Savanna Regime Mountains</td>\n",
       "      <td>Puerto Rico Province</td>\n",
       "      <td>Dry-Humid Mountains Section</td>\n",
       "      <td>POLYGON ((-64.91067510887397 18.3910734350011,...</td>\n",
       "    </tr>\n",
       "    <tr>\n",
       "      <th>4427</th>\n",
       "      <td>4194</td>\n",
       "      <td>4.558527e+05</td>\n",
       "      <td>3308.718</td>\n",
       "      <td>2689</td>\n",
       "      <td>2845</td>\n",
       "      <td>M411A</td>\n",
       "      <td>HUMID TROPICAL DOMAIN</td>\n",
       "      <td>Savanna Regime Mountains</td>\n",
       "      <td>Puerto Rico Province</td>\n",
       "      <td>Dry-Humid Mountains Section</td>\n",
       "      <td>POLYGON ((-64.97272429712326 18.39254511986618...</td>\n",
       "    </tr>\n",
       "    <tr>\n",
       "      <th>4428</th>\n",
       "      <td>4194</td>\n",
       "      <td>4.322952e+05</td>\n",
       "      <td>2639.704</td>\n",
       "      <td>2683</td>\n",
       "      <td>2839</td>\n",
       "      <td>M411A</td>\n",
       "      <td>HUMID TROPICAL DOMAIN</td>\n",
       "      <td>Savanna Regime Mountains</td>\n",
       "      <td>Puerto Rico Province</td>\n",
       "      <td>Dry-Humid Mountains Section</td>\n",
       "      <td>POLYGON ((-64.90880638473904 18.40775005344576...</td>\n",
       "    </tr>\n",
       "    <tr>\n",
       "      <th>4429</th>\n",
       "      <td>12671</td>\n",
       "      <td>8.948850e+08</td>\n",
       "      <td>236636.840</td>\n",
       "      <td>2</td>\n",
       "      <td>17</td>\n",
       "      <td>M127B</td>\n",
       "      <td>POLAR DOMAIN</td>\n",
       "      <td>Tundra Regime Mountains</td>\n",
       "      <td>Aleutian Oceanic Meadow-Heath Province</td>\n",
       "      <td>Aleutian Islands Section</td>\n",
       "      <td>POLYGON ((172.5 52.94199665376597, 172.5 52.91...</td>\n",
       "    </tr>\n",
       "    <tr>\n",
       "      <th>4436</th>\n",
       "      <td>12761</td>\n",
       "      <td>8.948850e+08</td>\n",
       "      <td>236636.840</td>\n",
       "      <td>2</td>\n",
       "      <td>17</td>\n",
       "      <td>M127B</td>\n",
       "      <td>POLAR DOMAIN</td>\n",
       "      <td>Tundra Regime Mountains</td>\n",
       "      <td>Aleutian Oceanic Meadow-Heath Province</td>\n",
       "      <td>Aleutian Islands Section</td>\n",
       "      <td>POLYGON ((172.5 52.91959117627796, 172.5 52.94...</td>\n",
       "    </tr>\n",
       "    <tr>\n",
       "      <th>4430</th>\n",
       "      <td>12761</td>\n",
       "      <td>2.217306e+08</td>\n",
       "      <td>94848.617</td>\n",
       "      <td>3</td>\n",
       "      <td>171</td>\n",
       "      <td>M127B</td>\n",
       "      <td>POLAR DOMAIN</td>\n",
       "      <td>Tundra Regime Mountains</td>\n",
       "      <td>Aleutian Oceanic Meadow-Heath Province</td>\n",
       "      <td>Aleutian Islands Section</td>\n",
       "      <td>POLYGON ((173.7279511920456 52.35748288268002,...</td>\n",
       "    </tr>\n",
       "    <tr>\n",
       "      <th>4431</th>\n",
       "      <td>12761</td>\n",
       "      <td>1.954336e+05</td>\n",
       "      <td>1657.395</td>\n",
       "      <td>9</td>\n",
       "      <td>176</td>\n",
       "      <td>M127B</td>\n",
       "      <td>POLAR DOMAIN</td>\n",
       "      <td>Tundra Regime Mountains</td>\n",
       "      <td>Aleutian Oceanic Meadow-Heath Province</td>\n",
       "      <td>Aleutian Islands Section</td>\n",
       "      <td>POLYGON ((174.5446613769183 52.62941981846551,...</td>\n",
       "    </tr>\n",
       "    <tr>\n",
       "      <th>4432</th>\n",
       "      <td>12761</td>\n",
       "      <td>2.043224e+05</td>\n",
       "      <td>1809.923</td>\n",
       "      <td>8</td>\n",
       "      <td>175</td>\n",
       "      <td>M127B</td>\n",
       "      <td>POLAR DOMAIN</td>\n",
       "      <td>Tundra Regime Mountains</td>\n",
       "      <td>Aleutian Oceanic Meadow-Heath Province</td>\n",
       "      <td>Aleutian Islands Section</td>\n",
       "      <td>POLYGON ((174.5368948716678 52.63509185687318,...</td>\n",
       "    </tr>\n",
       "    <tr>\n",
       "      <th>4433</th>\n",
       "      <td>12761</td>\n",
       "      <td>1.728642e+07</td>\n",
       "      <td>19903.473</td>\n",
       "      <td>6</td>\n",
       "      <td>174</td>\n",
       "      <td>M127B</td>\n",
       "      <td>POLAR DOMAIN</td>\n",
       "      <td>Tundra Regime Mountains</td>\n",
       "      <td>Aleutian Oceanic Meadow-Heath Province</td>\n",
       "      <td>Aleutian Islands Section</td>\n",
       "      <td>POLYGON ((174.1352382931063 52.70550217508955,...</td>\n",
       "    </tr>\n",
       "    <tr>\n",
       "      <th>4434</th>\n",
       "      <td>12761</td>\n",
       "      <td>7.127738e+06</td>\n",
       "      <td>14192.126</td>\n",
       "      <td>5</td>\n",
       "      <td>173</td>\n",
       "      <td>M127B</td>\n",
       "      <td>POLAR DOMAIN</td>\n",
       "      <td>Tundra Regime Mountains</td>\n",
       "      <td>Aleutian Oceanic Meadow-Heath Province</td>\n",
       "      <td>Aleutian Islands Section</td>\n",
       "      <td>POLYGON ((174.0089114954441 52.72107865220976,...</td>\n",
       "    </tr>\n",
       "    <tr>\n",
       "      <th>4435</th>\n",
       "      <td>12761</td>\n",
       "      <td>5.848493e+06</td>\n",
       "      <td>13632.412</td>\n",
       "      <td>4</td>\n",
       "      <td>172</td>\n",
       "      <td>M127B</td>\n",
       "      <td>POLAR DOMAIN</td>\n",
       "      <td>Tundra Regime Mountains</td>\n",
       "      <td>Aleutian Oceanic Meadow-Heath Province</td>\n",
       "      <td>Aleutian Islands Section</td>\n",
       "      <td>POLYGON ((173.9241047102232 52.74997041646314,...</td>\n",
       "    </tr>\n",
       "    <tr>\n",
       "      <th>4437</th>\n",
       "      <td>12850</td>\n",
       "      <td>2.764964e+08</td>\n",
       "      <td>153450.060</td>\n",
       "      <td>66</td>\n",
       "      <td>17</td>\n",
       "      <td>M127B</td>\n",
       "      <td>POLAR DOMAIN</td>\n",
       "      <td>Tundra Regime Mountains</td>\n",
       "      <td>Aleutian Oceanic Meadow-Heath Province</td>\n",
       "      <td>Aleutian Islands Section</td>\n",
       "      <td>POLYGON ((177.5 51.98946817863614, 177.5 51.93...</td>\n",
       "    </tr>\n",
       "    <tr>\n",
       "      <th>4451</th>\n",
       "      <td>12940</td>\n",
       "      <td>2.764964e+08</td>\n",
       "      <td>153450.060</td>\n",
       "      <td>66</td>\n",
       "      <td>17</td>\n",
       "      <td>M127B</td>\n",
       "      <td>POLAR DOMAIN</td>\n",
       "      <td>Tundra Regime Mountains</td>\n",
       "      <td>Aleutian Oceanic Meadow-Heath Province</td>\n",
       "      <td>Aleutian Islands Section</td>\n",
       "      <td>(POLYGON ((177.5 51.9320151136475, 177.5 51.98...</td>\n",
       "    </tr>\n",
       "    <tr>\n",
       "      <th>4454</th>\n",
       "      <td>12941</td>\n",
       "      <td>2.764964e+08</td>\n",
       "      <td>153450.060</td>\n",
       "      <td>66</td>\n",
       "      <td>17</td>\n",
       "      <td>M127B</td>\n",
       "      <td>POLAR DOMAIN</td>\n",
       "      <td>Tundra Regime Mountains</td>\n",
       "      <td>Aleutian Oceanic Meadow-Heath Province</td>\n",
       "      <td>Aleutian Islands Section</td>\n",
       "      <td>POLYGON ((177.5824222508736 52, 177.5740118297...</td>\n",
       "    </tr>\n",
       "    <tr>\n",
       "      <th>4439</th>\n",
       "      <td>12851</td>\n",
       "      <td>1.983454e+07</td>\n",
       "      <td>19529.678</td>\n",
       "      <td>34</td>\n",
       "      <td>200</td>\n",
       "      <td>M127B</td>\n",
       "      <td>POLAR DOMAIN</td>\n",
       "      <td>Tundra Regime Mountains</td>\n",
       "      <td>Aleutian Oceanic Meadow-Heath Province</td>\n",
       "      <td>Aleutian Islands Section</td>\n",
       "      <td>POLYGON ((175.9806217175417 52.36150518869319,...</td>\n",
       "    </tr>\n",
       "    <tr>\n",
       "      <th>4440</th>\n",
       "      <td>12851</td>\n",
       "      <td>1.270785e+05</td>\n",
       "      <td>1381.294</td>\n",
       "      <td>33</td>\n",
       "      <td>199</td>\n",
       "      <td>M127B</td>\n",
       "      <td>POLAR DOMAIN</td>\n",
       "      <td>Tundra Regime Mountains</td>\n",
       "      <td>Aleutian Oceanic Meadow-Heath Province</td>\n",
       "      <td>Aleutian Islands Section</td>\n",
       "      <td>POLYGON ((175.8693393790305 52.38078003517675,...</td>\n",
       "    </tr>\n",
       "    <tr>\n",
       "      <th>4441</th>\n",
       "      <td>12940</td>\n",
       "      <td>3.026464e+08</td>\n",
       "      <td>187928.810</td>\n",
       "      <td>104</td>\n",
       "      <td>267</td>\n",
       "      <td>M127B</td>\n",
       "      <td>POLAR DOMAIN</td>\n",
       "      <td>Tundra Regime Mountains</td>\n",
       "      <td>Aleutian Oceanic Meadow-Heath Province</td>\n",
       "      <td>Aleutian Islands Section</td>\n",
       "      <td>POLYGON ((178.6993379619819 51.61053741234515,...</td>\n",
       "    </tr>\n",
       "    <tr>\n",
       "      <th>4442</th>\n",
       "      <td>12940</td>\n",
       "      <td>3.262034e+05</td>\n",
       "      <td>2329.734</td>\n",
       "      <td>103</td>\n",
       "      <td>266</td>\n",
       "      <td>M127B</td>\n",
       "      <td>POLAR DOMAIN</td>\n",
       "      <td>Tundra Regime Mountains</td>\n",
       "      <td>Aleutian Oceanic Meadow-Heath Province</td>\n",
       "      <td>Aleutian Islands Section</td>\n",
       "      <td>POLYGON ((178.6495206368895 51.65977614412104,...</td>\n",
       "    </tr>\n",
       "    <tr>\n",
       "      <th>4443</th>\n",
       "      <td>12940</td>\n",
       "      <td>2.752989e+07</td>\n",
       "      <td>34671.391</td>\n",
       "      <td>95</td>\n",
       "      <td>257</td>\n",
       "      <td>M127B</td>\n",
       "      <td>POLAR DOMAIN</td>\n",
       "      <td>Tundra Regime Mountains</td>\n",
       "      <td>Aleutian Oceanic Meadow-Heath Province</td>\n",
       "      <td>Aleutian Islands Section</td>\n",
       "      <td>POLYGON ((178.3870541898919 51.76637390730292,...</td>\n",
       "    </tr>\n",
       "    <tr>\n",
       "      <th>4444</th>\n",
       "      <td>12940</td>\n",
       "      <td>6.463455e+07</td>\n",
       "      <td>37710.109</td>\n",
       "      <td>97</td>\n",
       "      <td>259</td>\n",
       "      <td>M127B</td>\n",
       "      <td>POLAR DOMAIN</td>\n",
       "      <td>Tundra Regime Mountains</td>\n",
       "      <td>Aleutian Oceanic Meadow-Heath Province</td>\n",
       "      <td>Aleutian Islands Section</td>\n",
       "      <td>POLYGON ((178.4878992315293 51.92075786317957,...</td>\n",
       "    </tr>\n",
       "    <tr>\n",
       "      <th>4445</th>\n",
       "      <td>12940</td>\n",
       "      <td>2.226029e+08</td>\n",
       "      <td>65206.574</td>\n",
       "      <td>125</td>\n",
       "      <td>17</td>\n",
       "      <td>M127B</td>\n",
       "      <td>POLAR DOMAIN</td>\n",
       "      <td>Tundra Regime Mountains</td>\n",
       "      <td>Aleutian Oceanic Meadow-Heath Province</td>\n",
       "      <td>Aleutian Islands Section</td>\n",
       "      <td>POLYGON ((179.5619258733734 52, 179.7190797022...</td>\n",
       "    </tr>\n",
       "    <tr>\n",
       "      <th>4453</th>\n",
       "      <td>12941</td>\n",
       "      <td>2.226029e+08</td>\n",
       "      <td>65206.574</td>\n",
       "      <td>125</td>\n",
       "      <td>17</td>\n",
       "      <td>M127B</td>\n",
       "      <td>POLAR DOMAIN</td>\n",
       "      <td>Tundra Regime Mountains</td>\n",
       "      <td>Aleutian Oceanic Meadow-Heath Province</td>\n",
       "      <td>Aleutian Islands Section</td>\n",
       "      <td>POLYGON ((179.7190797022338 52, 179.5619258733...</td>\n",
       "    </tr>\n",
       "    <tr>\n",
       "      <th>4446</th>\n",
       "      <td>12940</td>\n",
       "      <td>7.866301e+06</td>\n",
       "      <td>15629.963</td>\n",
       "      <td>70</td>\n",
       "      <td>233</td>\n",
       "      <td>M127B</td>\n",
       "      <td>POLAR DOMAIN</td>\n",
       "      <td>Tundra Regime Mountains</td>\n",
       "      <td>Aleutian Oceanic Meadow-Heath Province</td>\n",
       "      <td>Aleutian Islands Section</td>\n",
       "      <td>POLYGON ((177.7114392335367 51.95377283773587,...</td>\n",
       "    </tr>\n",
       "    <tr>\n",
       "      <th>4447</th>\n",
       "      <td>12940</td>\n",
       "      <td>3.188436e+06</td>\n",
       "      <td>10824.119</td>\n",
       "      <td>94</td>\n",
       "      <td>256</td>\n",
       "      <td>M127B</td>\n",
       "      <td>POLAR DOMAIN</td>\n",
       "      <td>Tundra Regime Mountains</td>\n",
       "      <td>Aleutian Oceanic Meadow-Heath Province</td>\n",
       "      <td>Aleutian Islands Section</td>\n",
       "      <td>POLYGON ((178.3638337995997 51.95862735448375,...</td>\n",
       "    </tr>\n",
       "    <tr>\n",
       "      <th>4448</th>\n",
       "      <td>12940</td>\n",
       "      <td>1.771820e+05</td>\n",
       "      <td>1708.047</td>\n",
       "      <td>91</td>\n",
       "      <td>253</td>\n",
       "      <td>M127B</td>\n",
       "      <td>POLAR DOMAIN</td>\n",
       "      <td>Tundra Regime Mountains</td>\n",
       "      <td>Aleutian Oceanic Meadow-Heath Province</td>\n",
       "      <td>Aleutian Islands Section</td>\n",
       "      <td>POLYGON ((178.324281424276 51.96392581373791, ...</td>\n",
       "    </tr>\n",
       "    <tr>\n",
       "      <th>4449</th>\n",
       "      <td>12940</td>\n",
       "      <td>2.129422e+06</td>\n",
       "      <td>6683.666</td>\n",
       "      <td>90</td>\n",
       "      <td>252</td>\n",
       "      <td>M127B</td>\n",
       "      <td>POLAR DOMAIN</td>\n",
       "      <td>Tundra Regime Mountains</td>\n",
       "      <td>Aleutian Oceanic Meadow-Heath Province</td>\n",
       "      <td>Aleutian Islands Section</td>\n",
       "      <td>POLYGON ((178.3078324269795 51.97211274528167,...</td>\n",
       "    </tr>\n",
       "    <tr>\n",
       "      <th>4450</th>\n",
       "      <td>12940</td>\n",
       "      <td>2.044682e+05</td>\n",
       "      <td>1893.889</td>\n",
       "      <td>92</td>\n",
       "      <td>254</td>\n",
       "      <td>M127B</td>\n",
       "      <td>POLAR DOMAIN</td>\n",
       "      <td>Tundra Regime Mountains</td>\n",
       "      <td>Aleutian Oceanic Meadow-Heath Province</td>\n",
       "      <td>Aleutian Islands Section</td>\n",
       "      <td>POLYGON ((178.3513951666147 51.97887467401205,...</td>\n",
       "    </tr>\n",
       "    <tr>\n",
       "      <th>4452</th>\n",
       "      <td>12940</td>\n",
       "      <td>3.335515e+07</td>\n",
       "      <td>26860.234</td>\n",
       "      <td>83</td>\n",
       "      <td>245</td>\n",
       "      <td>M127B</td>\n",
       "      <td>POLAR DOMAIN</td>\n",
       "      <td>Tundra Regime Mountains</td>\n",
       "      <td>Aleutian Oceanic Meadow-Heath Province</td>\n",
       "      <td>Aleutian Islands Section</td>\n",
       "      <td>POLYGON ((178.1094581995789 52, 178.1960553050...</td>\n",
       "    </tr>\n",
       "    <tr>\n",
       "      <th>4455</th>\n",
       "      <td>12941</td>\n",
       "      <td>3.335515e+07</td>\n",
       "      <td>26860.234</td>\n",
       "      <td>83</td>\n",
       "      <td>245</td>\n",
       "      <td>M127B</td>\n",
       "      <td>POLAR DOMAIN</td>\n",
       "      <td>Tundra Regime Mountains</td>\n",
       "      <td>Aleutian Oceanic Meadow-Heath Province</td>\n",
       "      <td>Aleutian Islands Section</td>\n",
       "      <td>POLYGON ((178.196055305041 52, 178.10945819957...</td>\n",
       "    </tr>\n",
       "  </tbody>\n",
       "</table>\n",
       "<p>4110 rows × 11 columns</p>\n",
       "</div>"
      ],
      "text/plain": [
       "      grid_ID          AREA   PERIMETER  ECO_US_  ECO_US_ID ECOCODE  \\\n",
       "0          70  3.476444e+07   28823.936      172        330   M127B   \n",
       "1          70  3.063581e+07   32376.520      174        332   M127B   \n",
       "2          70  2.572425e+05    2076.692      173        331   M127B   \n",
       "3          70  1.262698e+06    4520.111      189        345   M127B   \n",
       "4          70  1.454366e+07   22864.043      171        329   M127B   \n",
       "5          70  1.982020e+06    7019.317      166        324   M127B   \n",
       "6          70  3.908319e+06   10204.708      177        335   M127B   \n",
       "7          70  9.079304e+06   15467.438      176        334   M127B   \n",
       "8          70  2.018659e+05    1917.632      194        350   M127B   \n",
       "9          70  5.363755e+08  184377.040      178         17   M127B   \n",
       "10         70  6.665270e+07   31844.227      163        322   M127B   \n",
       "11         70  3.646932e+08  169118.340      192        348   M127B   \n",
       "22        160  3.646932e+08  169118.340      192        348   M127B   \n",
       "12        160  6.029854e+05    4054.722      222        374   M127B   \n",
       "13        160  1.352340e+06    6673.258      223        375   M127B   \n",
       "14        160  4.023427e+05    3386.368      224        376   M127B   \n",
       "15        160  2.989225e+06   10894.577      227        378   M127B   \n",
       "16        160  6.291926e+05    3790.531      226        377   M127B   \n",
       "17        160  2.735958e+05    2395.510      229        380   M127B   \n",
       "18        160  7.192836e+08  308153.430      205         17   M127B   \n",
       "45        161  7.192836e+08  308153.430      205         17   M127B   \n",
       "19        160  3.941411e+05    2610.791      244        394   M127B   \n",
       "20        160  1.169380e+08   79416.031      225         17   M127B   \n",
       "21        160  9.232251e+05    4077.416      213        368   M127B   \n",
       "23        160  1.414971e+06    5959.567      210        365   M127B   \n",
       "24        160  8.533084e+05    4558.261      212        367   M127B   \n",
       "25        160  3.381768e+05    2266.204      208        363   M127B   \n",
       "26        160  7.307954e+07   78978.422      236         17   M127B   \n",
       "27        160  1.902677e+05    1699.573      206        361   M127B   \n",
       "28        160  5.362733e+05    2920.776      211        366   M127B   \n",
       "...       ...           ...         ...      ...        ...     ...   \n",
       "4425     4194  5.293139e+05    4194.500     2691       2847   M411A   \n",
       "4426     4194  1.974137e+06    6827.866     2685       2841   M411A   \n",
       "4427     4194  4.558527e+05    3308.718     2689       2845   M411A   \n",
       "4428     4194  4.322952e+05    2639.704     2683       2839   M411A   \n",
       "4429    12671  8.948850e+08  236636.840        2         17   M127B   \n",
       "4436    12761  8.948850e+08  236636.840        2         17   M127B   \n",
       "4430    12761  2.217306e+08   94848.617        3        171   M127B   \n",
       "4431    12761  1.954336e+05    1657.395        9        176   M127B   \n",
       "4432    12761  2.043224e+05    1809.923        8        175   M127B   \n",
       "4433    12761  1.728642e+07   19903.473        6        174   M127B   \n",
       "4434    12761  7.127738e+06   14192.126        5        173   M127B   \n",
       "4435    12761  5.848493e+06   13632.412        4        172   M127B   \n",
       "4437    12850  2.764964e+08  153450.060       66         17   M127B   \n",
       "4451    12940  2.764964e+08  153450.060       66         17   M127B   \n",
       "4454    12941  2.764964e+08  153450.060       66         17   M127B   \n",
       "4439    12851  1.983454e+07   19529.678       34        200   M127B   \n",
       "4440    12851  1.270785e+05    1381.294       33        199   M127B   \n",
       "4441    12940  3.026464e+08  187928.810      104        267   M127B   \n",
       "4442    12940  3.262034e+05    2329.734      103        266   M127B   \n",
       "4443    12940  2.752989e+07   34671.391       95        257   M127B   \n",
       "4444    12940  6.463455e+07   37710.109       97        259   M127B   \n",
       "4445    12940  2.226029e+08   65206.574      125         17   M127B   \n",
       "4453    12941  2.226029e+08   65206.574      125         17   M127B   \n",
       "4446    12940  7.866301e+06   15629.963       70        233   M127B   \n",
       "4447    12940  3.188436e+06   10824.119       94        256   M127B   \n",
       "4448    12940  1.771820e+05    1708.047       91        253   M127B   \n",
       "4449    12940  2.129422e+06    6683.666       90        252   M127B   \n",
       "4450    12940  2.044682e+05    1893.889       92        254   M127B   \n",
       "4452    12940  3.335515e+07   26860.234       83        245   M127B   \n",
       "4455    12941  3.335515e+07   26860.234       83        245   M127B   \n",
       "\n",
       "                     DOMAIN                  DIVISION  \\\n",
       "0              POLAR DOMAIN   Tundra Regime Mountains   \n",
       "1              POLAR DOMAIN   Tundra Regime Mountains   \n",
       "2              POLAR DOMAIN   Tundra Regime Mountains   \n",
       "3              POLAR DOMAIN   Tundra Regime Mountains   \n",
       "4              POLAR DOMAIN   Tundra Regime Mountains   \n",
       "5              POLAR DOMAIN   Tundra Regime Mountains   \n",
       "6              POLAR DOMAIN   Tundra Regime Mountains   \n",
       "7              POLAR DOMAIN   Tundra Regime Mountains   \n",
       "8              POLAR DOMAIN   Tundra Regime Mountains   \n",
       "9              POLAR DOMAIN   Tundra Regime Mountains   \n",
       "10             POLAR DOMAIN   Tundra Regime Mountains   \n",
       "11             POLAR DOMAIN   Tundra Regime Mountains   \n",
       "22             POLAR DOMAIN   Tundra Regime Mountains   \n",
       "12             POLAR DOMAIN   Tundra Regime Mountains   \n",
       "13             POLAR DOMAIN   Tundra Regime Mountains   \n",
       "14             POLAR DOMAIN   Tundra Regime Mountains   \n",
       "15             POLAR DOMAIN   Tundra Regime Mountains   \n",
       "16             POLAR DOMAIN   Tundra Regime Mountains   \n",
       "17             POLAR DOMAIN   Tundra Regime Mountains   \n",
       "18             POLAR DOMAIN   Tundra Regime Mountains   \n",
       "45             POLAR DOMAIN   Tundra Regime Mountains   \n",
       "19             POLAR DOMAIN   Tundra Regime Mountains   \n",
       "20             POLAR DOMAIN   Tundra Regime Mountains   \n",
       "21             POLAR DOMAIN   Tundra Regime Mountains   \n",
       "23             POLAR DOMAIN   Tundra Regime Mountains   \n",
       "24             POLAR DOMAIN   Tundra Regime Mountains   \n",
       "25             POLAR DOMAIN   Tundra Regime Mountains   \n",
       "26             POLAR DOMAIN   Tundra Regime Mountains   \n",
       "27             POLAR DOMAIN   Tundra Regime Mountains   \n",
       "28             POLAR DOMAIN   Tundra Regime Mountains   \n",
       "...                     ...                       ...   \n",
       "4425  HUMID TROPICAL DOMAIN  Savanna Regime Mountains   \n",
       "4426  HUMID TROPICAL DOMAIN  Savanna Regime Mountains   \n",
       "4427  HUMID TROPICAL DOMAIN  Savanna Regime Mountains   \n",
       "4428  HUMID TROPICAL DOMAIN  Savanna Regime Mountains   \n",
       "4429           POLAR DOMAIN   Tundra Regime Mountains   \n",
       "4436           POLAR DOMAIN   Tundra Regime Mountains   \n",
       "4430           POLAR DOMAIN   Tundra Regime Mountains   \n",
       "4431           POLAR DOMAIN   Tundra Regime Mountains   \n",
       "4432           POLAR DOMAIN   Tundra Regime Mountains   \n",
       "4433           POLAR DOMAIN   Tundra Regime Mountains   \n",
       "4434           POLAR DOMAIN   Tundra Regime Mountains   \n",
       "4435           POLAR DOMAIN   Tundra Regime Mountains   \n",
       "4437           POLAR DOMAIN   Tundra Regime Mountains   \n",
       "4451           POLAR DOMAIN   Tundra Regime Mountains   \n",
       "4454           POLAR DOMAIN   Tundra Regime Mountains   \n",
       "4439           POLAR DOMAIN   Tundra Regime Mountains   \n",
       "4440           POLAR DOMAIN   Tundra Regime Mountains   \n",
       "4441           POLAR DOMAIN   Tundra Regime Mountains   \n",
       "4442           POLAR DOMAIN   Tundra Regime Mountains   \n",
       "4443           POLAR DOMAIN   Tundra Regime Mountains   \n",
       "4444           POLAR DOMAIN   Tundra Regime Mountains   \n",
       "4445           POLAR DOMAIN   Tundra Regime Mountains   \n",
       "4453           POLAR DOMAIN   Tundra Regime Mountains   \n",
       "4446           POLAR DOMAIN   Tundra Regime Mountains   \n",
       "4447           POLAR DOMAIN   Tundra Regime Mountains   \n",
       "4448           POLAR DOMAIN   Tundra Regime Mountains   \n",
       "4449           POLAR DOMAIN   Tundra Regime Mountains   \n",
       "4450           POLAR DOMAIN   Tundra Regime Mountains   \n",
       "4452           POLAR DOMAIN   Tundra Regime Mountains   \n",
       "4455           POLAR DOMAIN   Tundra Regime Mountains   \n",
       "\n",
       "                                    PROVINCE                      SECTION  \\\n",
       "0     Aleutian Oceanic Meadow-Heath Province     Aleutian Islands Section   \n",
       "1     Aleutian Oceanic Meadow-Heath Province     Aleutian Islands Section   \n",
       "2     Aleutian Oceanic Meadow-Heath Province     Aleutian Islands Section   \n",
       "3     Aleutian Oceanic Meadow-Heath Province     Aleutian Islands Section   \n",
       "4     Aleutian Oceanic Meadow-Heath Province     Aleutian Islands Section   \n",
       "5     Aleutian Oceanic Meadow-Heath Province     Aleutian Islands Section   \n",
       "6     Aleutian Oceanic Meadow-Heath Province     Aleutian Islands Section   \n",
       "7     Aleutian Oceanic Meadow-Heath Province     Aleutian Islands Section   \n",
       "8     Aleutian Oceanic Meadow-Heath Province     Aleutian Islands Section   \n",
       "9     Aleutian Oceanic Meadow-Heath Province     Aleutian Islands Section   \n",
       "10    Aleutian Oceanic Meadow-Heath Province     Aleutian Islands Section   \n",
       "11    Aleutian Oceanic Meadow-Heath Province     Aleutian Islands Section   \n",
       "22    Aleutian Oceanic Meadow-Heath Province     Aleutian Islands Section   \n",
       "12    Aleutian Oceanic Meadow-Heath Province     Aleutian Islands Section   \n",
       "13    Aleutian Oceanic Meadow-Heath Province     Aleutian Islands Section   \n",
       "14    Aleutian Oceanic Meadow-Heath Province     Aleutian Islands Section   \n",
       "15    Aleutian Oceanic Meadow-Heath Province     Aleutian Islands Section   \n",
       "16    Aleutian Oceanic Meadow-Heath Province     Aleutian Islands Section   \n",
       "17    Aleutian Oceanic Meadow-Heath Province     Aleutian Islands Section   \n",
       "18    Aleutian Oceanic Meadow-Heath Province     Aleutian Islands Section   \n",
       "45    Aleutian Oceanic Meadow-Heath Province     Aleutian Islands Section   \n",
       "19    Aleutian Oceanic Meadow-Heath Province     Aleutian Islands Section   \n",
       "20    Aleutian Oceanic Meadow-Heath Province     Aleutian Islands Section   \n",
       "21    Aleutian Oceanic Meadow-Heath Province     Aleutian Islands Section   \n",
       "23    Aleutian Oceanic Meadow-Heath Province     Aleutian Islands Section   \n",
       "24    Aleutian Oceanic Meadow-Heath Province     Aleutian Islands Section   \n",
       "25    Aleutian Oceanic Meadow-Heath Province     Aleutian Islands Section   \n",
       "26    Aleutian Oceanic Meadow-Heath Province     Aleutian Islands Section   \n",
       "27    Aleutian Oceanic Meadow-Heath Province     Aleutian Islands Section   \n",
       "28    Aleutian Oceanic Meadow-Heath Province     Aleutian Islands Section   \n",
       "...                                      ...                          ...   \n",
       "4425                    Puerto Rico Province  Dry-Humid Mountains Section   \n",
       "4426                    Puerto Rico Province  Dry-Humid Mountains Section   \n",
       "4427                    Puerto Rico Province  Dry-Humid Mountains Section   \n",
       "4428                    Puerto Rico Province  Dry-Humid Mountains Section   \n",
       "4429  Aleutian Oceanic Meadow-Heath Province     Aleutian Islands Section   \n",
       "4436  Aleutian Oceanic Meadow-Heath Province     Aleutian Islands Section   \n",
       "4430  Aleutian Oceanic Meadow-Heath Province     Aleutian Islands Section   \n",
       "4431  Aleutian Oceanic Meadow-Heath Province     Aleutian Islands Section   \n",
       "4432  Aleutian Oceanic Meadow-Heath Province     Aleutian Islands Section   \n",
       "4433  Aleutian Oceanic Meadow-Heath Province     Aleutian Islands Section   \n",
       "4434  Aleutian Oceanic Meadow-Heath Province     Aleutian Islands Section   \n",
       "4435  Aleutian Oceanic Meadow-Heath Province     Aleutian Islands Section   \n",
       "4437  Aleutian Oceanic Meadow-Heath Province     Aleutian Islands Section   \n",
       "4451  Aleutian Oceanic Meadow-Heath Province     Aleutian Islands Section   \n",
       "4454  Aleutian Oceanic Meadow-Heath Province     Aleutian Islands Section   \n",
       "4439  Aleutian Oceanic Meadow-Heath Province     Aleutian Islands Section   \n",
       "4440  Aleutian Oceanic Meadow-Heath Province     Aleutian Islands Section   \n",
       "4441  Aleutian Oceanic Meadow-Heath Province     Aleutian Islands Section   \n",
       "4442  Aleutian Oceanic Meadow-Heath Province     Aleutian Islands Section   \n",
       "4443  Aleutian Oceanic Meadow-Heath Province     Aleutian Islands Section   \n",
       "4444  Aleutian Oceanic Meadow-Heath Province     Aleutian Islands Section   \n",
       "4445  Aleutian Oceanic Meadow-Heath Province     Aleutian Islands Section   \n",
       "4453  Aleutian Oceanic Meadow-Heath Province     Aleutian Islands Section   \n",
       "4446  Aleutian Oceanic Meadow-Heath Province     Aleutian Islands Section   \n",
       "4447  Aleutian Oceanic Meadow-Heath Province     Aleutian Islands Section   \n",
       "4448  Aleutian Oceanic Meadow-Heath Province     Aleutian Islands Section   \n",
       "4449  Aleutian Oceanic Meadow-Heath Province     Aleutian Islands Section   \n",
       "4450  Aleutian Oceanic Meadow-Heath Province     Aleutian Islands Section   \n",
       "4452  Aleutian Oceanic Meadow-Heath Province     Aleutian Islands Section   \n",
       "4455  Aleutian Oceanic Meadow-Heath Province     Aleutian Islands Section   \n",
       "\n",
       "                                               geometry  \n",
       "0     POLYGON ((-179.1244647910996 51.23042849958596...  \n",
       "1     POLYGON ((-178.8988488208616 51.34351033187876...  \n",
       "2     POLYGON ((-179.0075217978461 51.35685690992545...  \n",
       "3     POLYGON ((-178.2651666150719 51.48188063368989...  \n",
       "4     POLYGON ((-178.7911385171696 51.54583912306455...  \n",
       "5     POLYGON ((-179.0264405836872 51.57823684882069...  \n",
       "6     POLYGON ((-178.5836462072571 51.58622849366728...  \n",
       "7     POLYGON ((-178.6538993612175 51.59302781743194...  \n",
       "8     POLYGON ((-177.6664429626198 51.65683399404497...  \n",
       "9     POLYGON ((-178.0786870970876 51.66576161637781...  \n",
       "10    POLYGON ((-178.7239386617649 51.78970847002149...  \n",
       "11    POLYGON ((-177.5 51.74615985985753, -177.5 51....  \n",
       "22    POLYGON ((-177.5 51.70813786123597, -177.5 51....  \n",
       "12    POLYGON ((-176.6336534078786 51.65565780344645...  \n",
       "13    POLYGON ((-176.6174897976527 51.66129400507608...  \n",
       "14    POLYGON ((-176.5832521208576 51.69612310326886...  \n",
       "15    POLYGON ((-176.5075648121302 51.71427291757148...  \n",
       "16    POLYGON ((-176.4973308751114 51.73506415072682...  \n",
       "17    POLYGON ((-176.48326240938 51.75303328757342, ...  \n",
       "18    POLYGON ((-176.5821726924069 52, -176.55933123...  \n",
       "45    POLYGON ((-176.5593312337195 52, -176.58217269...  \n",
       "19    POLYGON ((-176.1273356350796 51.7958928999463,...  \n",
       "20    POLYGON ((-176.3161492253484 51.75915791576602...  \n",
       "21    POLYGON ((-176.7661154698139 51.79745072279592...  \n",
       "23    POLYGON ((-176.8055442793797 51.80211892621951...  \n",
       "24    POLYGON ((-176.7710105078639 51.81368821596022...  \n",
       "25    POLYGON ((-176.8751338805705 51.81766652153887...  \n",
       "26    POLYGON ((-175.9919287932077 51.80118964051361...  \n",
       "27    POLYGON ((-176.8847200652658 51.83194212072625...  \n",
       "28    POLYGON ((-176.7758180290586 51.83459986546941...  \n",
       "...                                                 ...  \n",
       "4425  POLYGON ((-64.97226743999364 18.38587124874779...  \n",
       "4426  POLYGON ((-64.91067510887397 18.3910734350011,...  \n",
       "4427  POLYGON ((-64.97272429712326 18.39254511986618...  \n",
       "4428  POLYGON ((-64.90880638473904 18.40775005344576...  \n",
       "4429  POLYGON ((172.5 52.94199665376597, 172.5 52.91...  \n",
       "4436  POLYGON ((172.5 52.91959117627796, 172.5 52.94...  \n",
       "4430  POLYGON ((173.7279511920456 52.35748288268002,...  \n",
       "4431  POLYGON ((174.5446613769183 52.62941981846551,...  \n",
       "4432  POLYGON ((174.5368948716678 52.63509185687318,...  \n",
       "4433  POLYGON ((174.1352382931063 52.70550217508955,...  \n",
       "4434  POLYGON ((174.0089114954441 52.72107865220976,...  \n",
       "4435  POLYGON ((173.9241047102232 52.74997041646314,...  \n",
       "4437  POLYGON ((177.5 51.98946817863614, 177.5 51.93...  \n",
       "4451  (POLYGON ((177.5 51.9320151136475, 177.5 51.98...  \n",
       "4454  POLYGON ((177.5824222508736 52, 177.5740118297...  \n",
       "4439  POLYGON ((175.9806217175417 52.36150518869319,...  \n",
       "4440  POLYGON ((175.8693393790305 52.38078003517675,...  \n",
       "4441  POLYGON ((178.6993379619819 51.61053741234515,...  \n",
       "4442  POLYGON ((178.6495206368895 51.65977614412104,...  \n",
       "4443  POLYGON ((178.3870541898919 51.76637390730292,...  \n",
       "4444  POLYGON ((178.4878992315293 51.92075786317957,...  \n",
       "4445  POLYGON ((179.5619258733734 52, 179.7190797022...  \n",
       "4453  POLYGON ((179.7190797022338 52, 179.5619258733...  \n",
       "4446  POLYGON ((177.7114392335367 51.95377283773587,...  \n",
       "4447  POLYGON ((178.3638337995997 51.95862735448375,...  \n",
       "4448  POLYGON ((178.324281424276 51.96392581373791, ...  \n",
       "4449  POLYGON ((178.3078324269795 51.97211274528167,...  \n",
       "4450  POLYGON ((178.3513951666147 51.97887467401205,...  \n",
       "4452  POLYGON ((178.1094581995789 52, 178.1960553050...  \n",
       "4455  POLYGON ((178.196055305041 52, 178.10945819957...  \n",
       "\n",
       "[4110 rows x 11 columns]"
      ]
     },
     "execution_count": 29,
     "metadata": {},
     "output_type": "execute_result"
    }
   ],
   "source": [
    "overlap"
   ]
  },
  {
   "cell_type": "code",
   "execution_count": 31,
   "metadata": {},
   "outputs": [],
   "source": [
    "unique_divisions = np.unique(overlap.DIVISION)"
   ]
  },
  {
   "cell_type": "code",
   "execution_count": 44,
   "metadata": {},
   "outputs": [
    {
     "name": "stdout",
     "output_type": "stream",
     "text": [
      "Masking Hot Continental Division\n",
      "Masking Hot Continental Regime Mountains\n",
      "Masking Marine Division\n",
      "Masking Marine Regime Mountains\n",
      "Masking Mediterranean Division\n",
      "Masking Mediterranean Regime Mountains\n",
      "Masking Prairie Division\n",
      "Masking Rainforest Regime Mountains\n",
      "Masking Savanna Division\n",
      "Masking Savanna Regime Mountains\n",
      "Masking Subarctic Division\n",
      "Masking Subarctic Regime Mountains\n",
      "Masking Subtropical Division\n",
      "Masking Subtropical Regime Mountains\n",
      "Masking Temperate Desert Division\n",
      "Masking Temperate Desert Regime Mountains\n",
      "Masking Temperate Steppe Division\n",
      "Masking Temperate Steppe Regime Mountains\n",
      "Masking Tropical/Subtropical Desert Division\n",
      "Masking Tropical/Subtropical Regime Mountains\n",
      "Masking Tropical/Subtropical Steppe Division\n",
      "Masking Tundra Division\n",
      "Masking Tundra Regime Mountains\n",
      "Masking Warm Continental Division\n",
      "Masking Warm Continental Regime Mountains\n"
     ]
    }
   ],
   "source": [
    "# Store masks that indicate if a grid cell overlaps with a given division\n",
    "division_dictionary = {}\n",
    "\n",
    "for division in unique_divisions : \n",
    "    \n",
    "    print(\"Masking \" + division)\n",
    "    \n",
    "    # Translate back to the original lat lon grid for a single land cover type\n",
    "    land_cover_area = np.zeros((len(lat), len(lon)), dtype=int)\n",
    "    grid_index = 0\n",
    "    for i in range(len(lon)) :\n",
    "        for j in range(len(lat)) :\n",
    "\n",
    "            # Where in over does this grid_index exist?\n",
    "            in_array = grid_index == np.array(overlap.grid_ID)\n",
    "            # What of those are the division of interest? \n",
    "            division_mask = division == np.array(overlap.DIVISION)        \n",
    "            m = in_array & division_mask\n",
    "\n",
    "            if np.sum(m) > 0 :\n",
    "                land_cover_area[j,i] = 1 #np.sum(overlap.loc[m,'AREA'])\n",
    "\n",
    "            grid_index += 1\n",
    "            \n",
    "    # Assign these values, store in the dictionary\n",
    "    division_dictionary[division] = land_cover_area"
   ]
  },
  {
   "cell_type": "markdown",
   "metadata": {},
   "source": [
    "### Manually edit out the high latitude (above 50 degrees north) part of the \"Marine Regime Mountains\" division in order to be consistent with the burn area data. "
   ]
  },
  {
   "cell_type": "code",
   "execution_count": 45,
   "metadata": {},
   "outputs": [
    {
     "data": {
      "text/plain": [
       "<matplotlib.collections.PolyCollection at 0x31ef7a400>"
      ]
     },
     "execution_count": 45,
     "metadata": {},
     "output_type": "execute_result"
    },
    {
     "data": {
      "image/png": "[encoded data removed]",
      "text/plain": [
       "<Figure size 432x288 with 1 Axes>"
      ]
     },
     "metadata": {
      "needs_background": "light"
     },
     "output_type": "display_data"
    }
   ],
   "source": [
    "X, Y = np.meshgrid(lon, lat)\n",
    "plt.pcolor(X,Y,division_dictionary['Marine Regime Mountains'])"
   ]
  },
  {
   "cell_type": "markdown",
   "metadata": {},
   "source": [
    "Without Alaska"
   ]
  },
  {
   "cell_type": "code",
   "execution_count": 46,
   "metadata": {},
   "outputs": [
    {
     "data": {
      "text/plain": [
       "<matplotlib.collections.PolyCollection at 0x31efe40f0>"
      ]
     },
     "execution_count": 46,
     "metadata": {},
     "output_type": "execute_result"
    },
    {
     "data": {
      "image/png": "[encoded data removed]",
      "text/plain": [
       "<Figure size 432x288 with 1 Axes>"
      ]
     },
     "metadata": {
      "needs_background": "light"
     },
     "output_type": "display_data"
    }
   ],
   "source": [
    "division_dictionary['Marine Regime Mountains'][np.where(lat > 51.)[0], :] = 0\n",
    "plt.pcolor(X, Y, division_dictionary['Marine Regime Mountains'])"
   ]
  },
  {
   "cell_type": "markdown",
   "metadata": {},
   "source": [
    "### Create a custom mask that corrosponds to a combination of masks in the region. A \"wester_US\" mask"
   ]
  },
  {
   "cell_type": "code",
   "execution_count": 47,
   "metadata": {},
   "outputs": [],
   "source": [
    "# Western US divisions to be included in this analysis \n",
    "western_divisions = [\"Temperate Steppe Regime Mountains\", \n",
    "                     \"Marine Regime Mountains\", \n",
    "                     'Marine Division', # No burn area! So will exclude\n",
    "                     \"Mediterranean Regime Mountains\", # includes southern coastal Alaska sections\n",
    "                     \"Mediterranean Division\",\n",
    "                     'Temperate Desert Division',\n",
    "                     \"Tropical/Subtropical Steppe Division\",\n",
    "                     'Tropical/Subtropical Desert Division',\n",
    "                     'Tropical/Subtropical Regime Mountains',\n",
    "                     'Temperate Desert Regime Mountains',\n",
    "                    ]\n",
    "\n",
    "# Create an array to save the count for regions overlapping the US\n",
    "western_US_count = np.zeros((len(lat), len(lon)), dtype=int)\n",
    "\n",
    "for div in western_divisions : \n",
    "    western_US_count += division_dictionary[div]    "
   ]
  },
  {
   "cell_type": "code",
   "execution_count": 48,
   "metadata": {},
   "outputs": [
    {
     "data": {
      "text/plain": [
       "<matplotlib.colorbar.Colorbar at 0x320888fd0>"
      ]
     },
     "execution_count": 48,
     "metadata": {},
     "output_type": "execute_result"
    },
    {
     "data": {
      "image/png": "[encoded data removed]",
      "text/plain": [
       "<Figure size 432x288 with 2 Axes>"
      ]
     },
     "metadata": {
      "needs_background": "light"
     },
     "output_type": "display_data"
    }
   ],
   "source": [
    "plt.pcolor(western_US_count)\n",
    "plt.colorbar()"
   ]
  },
  {
   "cell_type": "code",
   "execution_count": 49,
   "metadata": {},
   "outputs": [],
   "source": [
    "# Add the western US region to the dictionary\n",
    "division_dictionary[\"western_US\"] = western_US_count"
   ]
  },
  {
   "cell_type": "code",
   "execution_count": 50,
   "metadata": {},
   "outputs": [
    {
     "data": {
      "text/plain": [
       "dict_keys(['Hot Continental Division', 'Hot Continental Regime Mountains', 'Marine Division', 'Marine Regime Mountains', 'Mediterranean Division', 'Mediterranean Regime Mountains', 'Prairie Division', 'Rainforest Regime Mountains', 'Savanna Division', 'Savanna Regime Mountains', 'Subarctic Division', 'Subarctic Regime Mountains', 'Subtropical Division', 'Subtropical Regime Mountains', 'Temperate Desert Division', 'Temperate Desert Regime Mountains', 'Temperate Steppe Division', 'Temperate Steppe Regime Mountains', 'Tropical/Subtropical Desert Division', 'Tropical/Subtropical Regime Mountains', 'Tropical/Subtropical Steppe Division', 'Tundra Division', 'Tundra Regime Mountains', 'Warm Continental Division', 'Warm Continental Regime Mountains', 'western_US'])"
      ]
     },
     "execution_count": 50,
     "metadata": {},
     "output_type": "execute_result"
    }
   ],
   "source": [
    "division_dictionary.keys()"
   ]
  },
  {
   "cell_type": "code",
   "execution_count": 54,
   "metadata": {},
   "outputs": [
    {
     "name": "stdout",
     "output_type": "stream",
     "text": [
      "Hot Continental Division\n",
      "Hot Continental Regime Mountains\n",
      "Marine Division\n",
      "Marine Regime Mountains\n",
      "Mediterranean Division\n",
      "Mediterranean Regime Mountains\n",
      "Prairie Division\n",
      "Rainforest Regime Mountains\n",
      "Savanna Division\n",
      "Savanna Regime Mountains\n",
      "Subarctic Division\n",
      "Subarctic Regime Mountains\n",
      "Subtropical Division\n",
      "Subtropical Regime Mountains\n",
      "Temperate Desert Division\n",
      "Temperate Desert Regime Mountains\n",
      "Temperate Steppe Division\n",
      "Temperate Steppe Regime Mountains\n",
      "Tropical Subtropical Desert Division\n",
      "Tropical Subtropical Regime Mountains\n",
      "Tropical Subtropical Steppe Division\n",
      "Tundra Division\n",
      "Tundra Regime Mountains\n",
      "Warm Continental Division\n",
      "Warm Continental Regime Mountains\n",
      "western_US\n"
     ]
    }
   ],
   "source": [
    "# Write this land mask as a netcdf file \n",
    "outputFile = os.path.join(\"..\",\"Data\",\"LandCover\", \"bailys_division_masks.nc\")\n",
    "outputFileCommonGrid = os.path.join(\"..\",\"Data\",\"LandCover\", \"bailys_division_masks_common_grid.nc\")\n",
    "\n",
    "ncFile = Dataset(outputFile, 'w', format='NETCDF4')\n",
    "ncFile.description = 'Bailys Division masks'\n",
    "ncFile.location = 'Global'\n",
    "ncFile.createDimension('latitude', len(lat) )\n",
    "ncFile.createDimension('longitude', len(lon) )\n",
    "\n",
    "# create lat variable\n",
    "latitude_ = ncFile.createVariable('latitude', 'f4', ('latitude',))\n",
    "latitude_.units = 'degrees_north'\n",
    "latitude_.axis = \"Y\"\n",
    "\n",
    "# create longitude variable\n",
    "longitude_ = ncFile.createVariable('longitude', 'f4', ('longitude',))\n",
    "longitude_.units = \"degrees_east\"\n",
    "longitude_.long_name = \"longitude\"\n",
    "longitude_.axis = \"X\"\n",
    "#longitude_.lon_bnds = lon_bnds\n",
    "\n",
    "# Create data variables\n",
    "for key in division_dictionary.keys() :\n",
    "    key_name = key.replace(\"/\", \" \")\n",
    "    print(key_name)\n",
    "    VAR_ = ncFile.createVariable(key_name, 'f4',('latitude','longitude'))\n",
    "    VAR_.units = \"1=in_region, 0=outside_region\"\n",
    "    VAR_[:]    = division_dictionary[key]\n",
    "\n",
    "latitude_[:]  = np.array(lat)\n",
    "longitude_[:] = np.array(lon)\n",
    "ncFile.close()"
   ]
  },
  {
   "cell_type": "code",
   "execution_count": 52,
   "metadata": {},
   "outputs": [],
   "source": [
    "# And use cdo to make a common grid version \n",
    "import cdo as cdo\n",
    "cdo = cdo.Cdo()"
   ]
  },
  {
   "cell_type": "code",
   "execution_count": 55,
   "metadata": {},
   "outputs": [
    {
     "data": {
      "text/plain": [
       "'../Data/LandCover/bailys_division_masks_common_grid.nc'"
      ]
     },
     "execution_count": 55,
     "metadata": {},
     "output_type": "execute_result"
    }
   ],
   "source": [
    "common_grid_file = os.path.join(\"..\",\"Data\",\"LandCover\",'COMMON_GRID.txt')\n",
    "cdo.remapbil(common_grid_file, input=outputFile, output=outputFileCommonGrid, options=\"-b F64\")"
   ]
  },
  {
   "cell_type": "raw",
   "metadata": {},
   "source": [
    "x=np.array([True,True,False,False])\n",
    "y=np.array([True,False,True,False])\n",
    "x & y"
   ]
  }
 ],
 "metadata": {
  "kernelspec": {
   "display_name": "Python 3",
   "language": "python",
   "name": "python3"
  },
  "language_info": {
   "codemirror_mode": {
    "name": "ipython",
    "version": 3
   },
   "file_extension": ".py",
   "mimetype": "text/x-python",
   "name": "python",
   "nbconvert_exporter": "python",
   "pygments_lexer": "ipython3",
   "version": "3.6.8"
  }
 },
 "nbformat": 4,
 "nbformat_minor": 2
}

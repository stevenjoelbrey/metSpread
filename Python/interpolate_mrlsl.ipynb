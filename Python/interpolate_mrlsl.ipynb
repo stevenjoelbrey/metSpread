{
 "cells": [
  {
   "cell_type": "markdown",
   "metadata": {},
   "source": [
    "# Regridding CMIP5 soil moisture mrlsl\n",
    "\n",
    "This script performs linear interpolation on CMIP5 mrlsl data with the goal of creating a common\n",
    "vertical coordinate system and integral down to 2.89 meters (see Python/format_era_soil_moisture.py).\n",
    "\n",
    "The vertical interpolation is required due to the significantly varying depths and layers output in CMIP5 coupled models. These depths range between 3 and 14 meters (Berg et al. 2017). A good resource on just how different these models are can be found in [Berg et al. 2017](https://agupubs.onlinelibrary.wiley.com/doi/full/10.1002/2016GL071921). Anyhow, we know what models with such different depths are probably not even trying to model the same thing, and that is just a weakness of this comparison. However, if there is skill there is skill, so we use these values, and will express them in terms of historical variance seen by ERA-Interim. \n",
    "\n",
    "#### This script will :\n",
    "- Take all raw mrlsl files and regrid to a common vertical coordinate that matches Era-Interim Soil depths. \n",
    "- The soil moisture content of those layers (kg m$^{-2}$) will be integrated to the max depth in the new grid\n",
    "- those data will be written as a netcdf file name mrlsl_integrated_\"_other descriptors_\".nc \n",
    "- Those data will then be processed the same way as all other CMIP5 NetCDF data, which is handled by Python/format_mip5_raw_data.py\n",
    "\n",
    "### Detials on methods :\n",
    "- Some CMIP5 data supply mrlsl as a masked array, where nans are given to the locations where the value does not apply or makes no sense, like the ocean. ACCESS models do this. Other models, will simply save those locations soil moisture values as 0 (e.g. GFDL). We choose to interpolate only the locations that are non-nan, and leave nan values as nan rather than converting them to 0. This difference between models handling of 0 and nan near the ocean will have an impact on regridded (remapbil) values near the ocean. The size of the effect is not known. We set grid boxes where the integrate soil moisture is 0 to nan- since there are clearly locations where the value of soil moisture content is not applicable. "
   ]
  },
  {
   "cell_type": "code",
   "execution_count": 2,
   "metadata": {},
   "outputs": [],
   "source": [
    "import numpy as np\n",
    "import matplotlib.pylab as plt\n",
    "import glob\n",
    "from netCDF4 import Dataset\n",
    "import os\n",
    "import pandas as pd"
   ]
  },
  {
   "cell_type": "markdown",
   "metadata": {},
   "source": [
    "### A look at what the np.interp function does, on a simple sin curve. "
   ]
  },
  {
   "cell_type": "raw",
   "metadata": {},
   "source": [
    "# Synthetic soil data\n",
    "soil_layer_middle = np.linspace(0, 2*np.pi, 50)\n",
    "soil_mostire_value = np.sin(soil_layer_middle)\n",
    "\n",
    "# New layer middles (CMIP5 \"depth coord\" is middle of a layer of some thickness.) \n",
    "new_soil_layer_middle = np.linspace(0, 1*np.pi, 5)\n",
    "new_soil_mostire_value = np.interp(new_soil_layer_middle, soil_layer_middle, soil_mostire_value)\n",
    "\n",
    "plt.figure(dpi=150, figsize=(3,3))\n",
    "plt.plot(soil_layer_middle, soil_mostire_value, 'o', label=\"original\")\n",
    "plt.plot(new_soil_layer_middle, new_soil_mostire_value, '-x', label=\"interpolated\")\n",
    "plt.legend()\n",
    "plt.show()\n",
    "\n",
    "print(np.sum(new_soil_mostire_value))"
   ]
  },
  {
   "cell_type": "code",
   "execution_count": 3,
   "metadata": {},
   "outputs": [],
   "source": [
    "# Set directory to load data from \n",
    "base_dir = \"/Users/sbrey/GoogleDrive/sharedProjects/metSpreadData/getCMIP5\"\n",
    "raw_data_dir = os.path.join(base_dir, \"r1i1p1_raw_downloaded_files/\")\n",
    "\n",
    "# And the files that need to be regridded, in a loop. \n",
    "mrlsl_files = glob.glob(os.path.join(raw_data_dir, \"mrlsl_Lmon_*\"))"
   ]
  },
  {
   "cell_type": "code",
   "execution_count": 4,
   "metadata": {},
   "outputs": [
    {
     "name": "stdout",
     "output_type": "stream",
     "text": [
      "/Users/sbrey/GoogleDrive/sharedProjects/metSpreadData/getCMIP5/r1i1p1_raw_downloaded_files/mrlsl_Lmon_ACCESS1-0_historical_r1i1p1_185001-194912.nc\n"
     ]
    }
   ],
   "source": [
    "# e.g.\n",
    "print(mrlsl_files[0])"
   ]
  },
  {
   "cell_type": "code",
   "execution_count": 8,
   "metadata": {},
   "outputs": [],
   "source": [
    "def vertical_interp(f) :\n",
    "    \"\"\"\n",
    "    Function takes 4 dimensional soil moisture data [time, depth, lon, lat] \n",
    "    and linearly interpolates to a common siol depth down to 2.89 meters, then\n",
    "    sums the soil moisture content of those layers, and saves these data as the\n",
    "    on the same grid, sans the vertical coordinate. The new file has the same \n",
    "    name except a _integrated is added after the mrlsl. \n",
    "\n",
    "    Parameters\n",
    "    ----------\n",
    "        f : str, mrlsl netcdf file to be regriddded and integrated. \n",
    "\n",
    "    return\n",
    "    ------\n",
    "        M_interp : Regridded soil moisture with vertical layers. This is not\n",
    "                   written, simply returned here for development and investigating\n",
    "                   purposes. \n",
    "        new_soil_layer_middle : The bottom coordinates of the new soil moisture \n",
    "                                coordinates that were integrated over. \n",
    "\n",
    "    \"\"\"\n",
    "    \n",
    "    print(\"regridding: \" + f.split(\"/\")[-1])\n",
    "    \n",
    "    # These bottom (extent) of the new layers. \n",
    "    new_soil_layer_bottom = np.array([0.07, .28, 1., 2.89])\n",
    "    n_new_layers = len(new_soil_layer_bottom)\n",
    "    print(\"New soil layer bottoms\")\n",
    "    print(new_soil_layer_bottom)\n",
    "\n",
    "    # Open the netcdf file \n",
    "    nc = Dataset(f, 'r')\n",
    "    lat = nc.variables[\"lat\"]\n",
    "    lon = nc.variables[\"lon\"]\n",
    "    time = nc.variables[\"time\"]\n",
    "    soil_layer_bottom = nc.variables[\"depth_bnds\"][:][:,1]\n",
    "    print(\"Old soil layer bottom\")\n",
    "    print(soil_layer_bottom)\n",
    "    mrlsl = nc.variables[\"mrlsl\"]\n",
    "\n",
    "    # Get data of field \n",
    "    M = mrlsl[:]\n",
    "    dims = M.shape\n",
    "    \n",
    "    # If these data are masked array, masked values need to be set to zero.\n",
    "    # Many CMIP5 models do not use Nan but rather 0 in areas where this quantity\n",
    "    # is zero (like the oceans). For consistent regridding, I set the models that\n",
    "    # use nan values to zero. \n",
    "    if isinstance(M, np.ma.MaskedArray) : \n",
    "\n",
    "        np.ma.set_fill_value(M, fill_value=0)\n",
    "        M_new = np.array(M)\n",
    "        nan_mask = M.mask # True where values NaN\n",
    "        M_new[nan_mask] = 0.\n",
    "        M = M_new\n",
    "        print(\"Setting masked values to zero for interp then masking before save. New max value %f\" % np.max(M))\n",
    "        \n",
    "        was_masked = True\n",
    "    else :\n",
    "        was_masked = False\n",
    "\n",
    "    # Make the new array shape\n",
    "    M_interp = np.empty(shape=(len(time), n_new_layers, len(lat), len(lon)))\n",
    "    mrlsl_integrated = np.zeros(shape=(len(time), len(lat), len(lon)))\n",
    "    mrlsl_integrated[:] = np.nan # So that data are nan until proven otherwise \n",
    "\n",
    "    # TODO: Only interpolate over North America, to make code faster. \n",
    "    \n",
    "    loopLats = np.where( (lat[:] > 18.) & (lat[:] < 72.) )[0]\n",
    "    loopLons = np.where( (lon[:] > 175.) & (lon[:] < 318.) )[0]\n",
    "    \n",
    "    diff = np.zeros(shape=(len(time), len(lat), len(lon)))\n",
    "    \n",
    "    for t in range(len(time)) : \n",
    "        for y in loopLats :\n",
    "            for x in loopLons :\n",
    "                \n",
    "                # Get original column\n",
    "                soil_moisture_value = M[t, :, y, x]\n",
    "                original_sum = np.sum(soil_moisture_value)\n",
    "                \n",
    "                # interpolate the column \n",
    "                M_interp[t, :, y, x] = np.interp(new_soil_layer_bottom, soil_layer_bottom, soil_moisture_value)\n",
    "                new_column_sum = np.sum(M_interp[t, :, y, x])\n",
    "                mrlsl_integrated[t, y, x] = new_column_sum\n",
    "                \n",
    "    if was_masked :\n",
    "        # Information on non land areas where supplied, use that to remask.\n",
    "        mrlsl_integrated[nan_mask[:,0,:,:]] = np.nan\n",
    "    else :\n",
    "        # We assume anywhere with an integrated water column equal to 0\n",
    "        # to be ocean or some other area where soil moisture does not apply\n",
    "        mrlsl_integrated[mrlsl_integrated==0] = np.nan\n",
    "        \n",
    "    ##################################################################    \n",
    "    # Perform some sanity checks to make sure that no error occurred. \n",
    "    if np.nanmax(mrlsl_integrated) > 2888.33 :\n",
    "        # max depth = 2.89 meters x 1000 kg m**-3 gives this threshold. \n",
    "        raise ValueError(\"Maximum value of integrated soil moisture exceeds mass if entire depth were water.\")\n",
    "    \n",
    "    # Have any of the columns gained mass? \n",
    "    if np.nanmax( mrlsl_integrated - M.sum(axis=1) ) > 0.1 :\n",
    "        raise ValueError(\"At least one column has gained mass after integration.\")\n",
    "    \n",
    "    # Write the mrlsl_integrated data to a netcdf file with same attributes as original \n",
    "    outputFile = f.replace(\"mrlsl\", \"mrlsl.integrated\")\n",
    "\n",
    "    ncFile = Dataset(outputFile, 'w', format='NETCDF4')\n",
    "    ncFile.description = 'Interpolated soil moisture integrated to 2.89 meters.'\n",
    "    ncFile.location = 'Global'\n",
    "    ncFile.createDimension('time',  len(time) )\n",
    "    ncFile.createDimension('lat', len(lat) )\n",
    "    ncFile.createDimension('lon', len(lon) )\n",
    "\n",
    "    VAR_ = ncFile.createVariable(\"mrlsl_integrated\", 'f4',('time', 'lat','lon'))\n",
    "    VAR_.long_name = mrlsl.long_name\n",
    "    VAR_.units = mrlsl.units\n",
    "\n",
    "    # Create time variable\n",
    "    time_ = ncFile.createVariable('time', 'i4', ('time',))\n",
    "    time_.units = time.units\n",
    "    time_.calendar = time.calendar\n",
    "\n",
    "    # create lat variable\n",
    "    latitude_ = ncFile.createVariable('lat', 'f4', ('lat',))\n",
    "    latitude_.units = lat.units\n",
    "    latitude_.axis = lat.axis\n",
    "\n",
    "    # create longitude variable\n",
    "    longitude_ = ncFile.createVariable('lon', 'f4', ('lon',))\n",
    "    longitude_.units = lon.units\n",
    "    longitude_.axis = lon.axis\n",
    "    \n",
    "    # Write the actual data to these dimensions\n",
    "    VAR_[:]       = mrlsl_integrated\n",
    "    time_[:]      = time[:]\n",
    "    latitude_[:]  = lat[:]\n",
    "    longitude_[:] = lon[:]\n",
    "\n",
    "    # Close the new ncFile with interpolated integrated data \n",
    "    ncFile.close()\n",
    "\n",
    "    # Close the original netcdf file connection where data was read from\n",
    "    nc.close()\n",
    "\n",
    "    # to inpsect, but not used   \n",
    "    return mrlsl_integrated, M, M_interp"
   ]
  },
  {
   "cell_type": "code",
   "execution_count": 6,
   "metadata": {},
   "outputs": [
    {
     "name": "stdout",
     "output_type": "stream",
     "text": [
      "/Users/sbrey/GoogleDrive/sharedProjects/metSpreadData/getCMIP5/r1i1p1_raw_downloaded_files/mrlsl_Lmon_GFDL-CM3_historical_r1i1p1_190001-190412.nc\n"
     ]
    }
   ],
   "source": [
    "f = os.path.join(raw_data_dir, 'mrlsl_Lmon_GFDL-CM3_historical_r1i1p1_190001-190412.nc')\n",
    "#f = os.path.join(raw_data_dir, 'mrlsl_Lmon_ACCESS1-0_historical_r1i1p1_185001-194912.nc')\n",
    "print(f)"
   ]
  },
  {
   "cell_type": "code",
   "execution_count": 9,
   "metadata": {},
   "outputs": [
    {
     "name": "stdout",
     "output_type": "stream",
     "text": [
      "regridding: mrlsl_Lmon_GFDL-CM3_historical_r1i1p1_190001-190412.nc\n",
      "New soil layer bottoms\n",
      "[0.07 0.28 1.   2.89]\n",
      "Old soil layer bottom\n",
      "[ 0.02  0.06  0.1   0.15  0.2   0.3   0.4   0.6   0.8   1.    1.4   1.8\n",
      "  2.2   2.6   3.    4.    5.    6.    7.5  10.  ]\n"
     ]
    }
   ],
   "source": [
    "mrlsl_integrated, mrlsl, mrlsl_interpolated = vertical_interp(f)"
   ]
  },
  {
   "cell_type": "code",
   "execution_count": 10,
   "metadata": {},
   "outputs": [
    {
     "name": "stdout",
     "output_type": "stream",
     "text": [
      "(60, 4, 90, 144)\n",
      "(60, 90, 144)\n",
      "(60, 20, 90, 144)\n"
     ]
    }
   ],
   "source": [
    "print(mrlsl_interpolated.shape)\n",
    "print(mrlsl_integrated.shape)\n",
    "print(mrlsl.shape)"
   ]
  },
  {
   "cell_type": "code",
   "execution_count": 11,
   "metadata": {},
   "outputs": [],
   "source": [
    "d=mrlsl_integrated - mrlsl.sum(axis=1)"
   ]
  },
  {
   "cell_type": "code",
   "execution_count": 12,
   "metadata": {},
   "outputs": [
    {
     "name": "stdout",
     "output_type": "stream",
     "text": [
      "328.37470350265505\n",
      "4559.625\n"
     ]
    }
   ],
   "source": [
    "print(np.nanmax(mrlsl_integrated))\n",
    "print(np.nanmax(mrlsl.sum(axis=1)))"
   ]
  },
  {
   "cell_type": "code",
   "execution_count": 13,
   "metadata": {},
   "outputs": [
    {
     "name": "stdout",
     "output_type": "stream",
     "text": [
      "-0.502330108534079\n",
      "-4168.838187122345\n"
     ]
    },
    {
     "data": {
      "image/png": "[encoded data removed]",
      "text/plain": [
       "<Figure size 432x288 with 2 Axes>"
      ]
     },
     "metadata": {
      "needs_background": "light"
     },
     "output_type": "display_data"
    }
   ],
   "source": [
    "plt.pcolor(d[0,:,:])\n",
    "plt.colorbar()\n",
    "print(np.nanmax(d))\n",
    "print(np.nanmin(d))"
   ]
  },
  {
   "cell_type": "code",
   "execution_count": 14,
   "metadata": {},
   "outputs": [
    {
     "data": {
      "text/plain": [
       "[<matplotlib.lines.Line2D at 0x12e20a048>]"
      ]
     },
     "execution_count": 14,
     "metadata": {},
     "output_type": "execute_result"
    },
    {
     "data": {
      "image/png": "[encoded data removed]",
      "text/plain": [
       "<Figure size 432x288 with 1 Axes>"
      ]
     },
     "metadata": {
      "needs_background": "light"
     },
     "output_type": "display_data"
    }
   ],
   "source": [
    "time_mean = np.nanmean(mrlsl_integrated, axis=(1,2))\n",
    "plt.plot(time_mean)"
   ]
  },
  {
   "cell_type": "code",
   "execution_count": null,
   "metadata": {},
   "outputs": [
    {
     "name": "stdout",
     "output_type": "stream",
     "text": [
      "regridding: mrlsl_Lmon_ACCESS1-0_historical_r1i1p1_185001-194912.nc\n",
      "New soil layer bottoms\n",
      "[0.07 0.28 1.   2.89]\n",
      "Old soil layer bottom\n",
      "[0.1  0.35 1.   3.  ]\n",
      "Setting masked values to zero for interp then masking before save. New max value 962.984253\n",
      "regridding: mrlsl_Lmon_ACCESS1-0_historical_r1i1p1_195001-200512.nc\n",
      "New soil layer bottoms\n",
      "[0.07 0.28 1.   2.89]\n",
      "Old soil layer bottom\n",
      "[0.1  0.35 1.   3.  ]\n",
      "Setting masked values to zero for interp then masking before save. New max value 962.984192\n",
      "regridding: mrlsl_Lmon_ACCESS1-0_rcp45_r1i1p1_200601-210012.nc\n",
      "New soil layer bottoms\n",
      "[0.07 0.28 1.   2.89]\n",
      "Old soil layer bottom\n",
      "[0.1  0.35 1.   3.  ]\n",
      "Setting masked values to zero for interp then masking before save. New max value 962.983276\n"
     ]
    }
   ],
   "source": [
    "for f in mrlsl_files :\n",
    "    _, _, _ = vertical_interp(f)\n",
    "print(\"All files integrated!\")"
   ]
  },
  {
   "cell_type": "raw",
   "metadata": {},
   "source": [
    "plt.pcolor(interp[0,0,:,:])\n",
    "plt.colorbar()"
   ]
  },
  {
   "cell_type": "raw",
   "metadata": {},
   "source": [
    "plt.pcolor(interp[0,3,:,:])\n",
    "plt.colorbar()"
   ]
  },
  {
   "cell_type": "raw",
   "metadata": {},
   "source": [
    "plt.pcolor(M_interp[0,0,:,:])\n",
    "plt.colorbar()"
   ]
  },
  {
   "cell_type": "code",
   "execution_count": 82,
   "metadata": {},
   "outputs": [
    {
     "data": {
      "image/png": "[encoded data removed]",
      "text/plain": [
       "<Figure size 900x600 with 1 Axes>"
      ]
     },
     "metadata": {
      "needs_background": "light"
     },
     "output_type": "display_data"
    }
   ],
   "source": [
    "plt.figure(dpi=150)\n",
    "plt.plot(soil_moisture_value, soil_layer_middle, \"-o\", label=\"native\")\n",
    "plt.plot(interp_soil_mostire_values, new_soil_layer_middle, \"-o\",label=\"interpolated\")\n",
    "plt.xlabel(\"Soil Moisture\")\n",
    "plt.ylabel(\"Depth [m]\")\n",
    "plt.legend()\n",
    "plt.gca().invert_yaxis()\n",
    "plt.show()"
   ]
  },
  {
   "cell_type": "code",
   "execution_count": 16,
   "metadata": {},
   "outputs": [],
   "source": [
    "files = glob.glob(os.path.join(raw_data_dir, \"mrlsl_int*\"))\n",
    "for f in files :\n",
    "    os.rename(f, f.replace(\"mrlsl_integrated\", \"mrlsl.integrated\"))"
   ]
  },
  {
   "cell_type": "code",
   "execution_count": 15,
   "metadata": {},
   "outputs": [
    {
     "data": {
      "text/plain": [
       "'/Users/sbrey/GoogleDrive/sharedProjects/metSpreadData/getCMIP5/r1i1p1_raw_downloaded_files/mrlsl.integrated_Lmon_ACCESS1-0_historical_r1i1p1_185001-194912.nc'"
      ]
     },
     "execution_count": 15,
     "metadata": {},
     "output_type": "execute_result"
    }
   ],
   "source": [
    "files[0].replace(\"mrlsl_integrated\", \"mrlsl.integrated\")"
   ]
  },
  {
   "cell_type": "markdown",
   "metadata": {},
   "source": [
    "https://docs.scipy.org/doc/scipy-0.18.0/reference/generated/scipy.interpolate.RegularGridInterpolator.html#scipy.interpolate.RegularGridInterpolator"
   ]
  }
 ],
 "metadata": {
  "kernelspec": {
   "display_name": "Python 3",
   "language": "python",
   "name": "python3"
  },
  "language_info": {
   "codemirror_mode": {
    "name": "ipython",
    "version": 3
   },
   "file_extension": ".py",
   "mimetype": "text/x-python",
   "name": "python",
   "nbconvert_exporter": "python",
   "pygments_lexer": "ipython3",
   "version": "3.6.8"
  }
 },
 "nbformat": 4,
 "nbformat_minor": 2
}
